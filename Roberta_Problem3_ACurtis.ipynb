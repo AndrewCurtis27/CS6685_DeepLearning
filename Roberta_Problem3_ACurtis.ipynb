{
  "cells": [
    {
      "cell_type": "code",
      "execution_count": 1,
      "metadata": {
        "colab": {
          "base_uri": "https://localhost:8080/"
        },
        "id": "yvMlDjs63TBG",
        "outputId": "218b1f24-3fda-4100-8e6f-bc08496e23c2"
      },
      "outputs": [
        {
          "output_type": "stream",
          "name": "stdout",
          "text": [
            "Mounted at /content/drive\n"
          ]
        }
      ],
      "source": [
        "#### CRITICAL - ENABLE GPU \n",
        "\n",
        "import pandas as pd\n",
        "import numpy as np\n",
        "import json, re\n",
        "from tqdm import tqdm_notebook\n",
        "from uuid import uuid4\n",
        "\n",
        "## Torch Modules\n",
        "import torch\n",
        "import torch.optim as optim\n",
        "import torch.nn as nn\n",
        "import torch.nn.functional as F\n",
        "from torch.autograd import Variable\n",
        "from torch.utils.data import Dataset, DataLoader\n",
        "\n",
        "\n",
        "## Mount Drive into Colab\n",
        "from google.colab import drive\n",
        "drive.mount('/content/drive')"
      ]
    },
    {
      "cell_type": "code",
      "execution_count": 3,
      "metadata": {
        "colab": {
          "base_uri": "https://localhost:8080/"
        },
        "id": "6_ppFOaeJxHD",
        "outputId": "9c7aa884-3160-45f8-b4f1-4030ef1dd0e6"
      },
      "outputs": [
        {
          "output_type": "stream",
          "name": "stdout",
          "text": [
            "Looking in indexes: https://pypi.org/simple, https://us-python.pkg.dev/colab-wheels/public/simple/\n",
            "Collecting pytorch-transformers\n",
            "  Downloading pytorch_transformers-1.2.0-py3-none-any.whl (176 kB)\n",
            "\u001b[K     |████████████████████████████████| 176 kB 17.2 MB/s \n",
            "\u001b[?25hRequirement already satisfied: torch>=1.0.0 in /usr/local/lib/python3.8/dist-packages (from pytorch-transformers) (1.13.0+cu116)\n",
            "Requirement already satisfied: numpy in /usr/local/lib/python3.8/dist-packages (from pytorch-transformers) (1.21.6)\n",
            "Collecting sentencepiece\n",
            "  Downloading sentencepiece-0.1.97-cp38-cp38-manylinux_2_17_x86_64.manylinux2014_x86_64.whl (1.3 MB)\n",
            "\u001b[K     |████████████████████████████████| 1.3 MB 74.2 MB/s \n",
            "\u001b[?25hCollecting boto3\n",
            "  Downloading boto3-1.26.26-py3-none-any.whl (132 kB)\n",
            "\u001b[K     |████████████████████████████████| 132 kB 78.1 MB/s \n",
            "\u001b[?25hCollecting sacremoses\n",
            "  Downloading sacremoses-0.0.53.tar.gz (880 kB)\n",
            "\u001b[K     |████████████████████████████████| 880 kB 73.0 MB/s \n",
            "\u001b[?25hRequirement already satisfied: requests in /usr/local/lib/python3.8/dist-packages (from pytorch-transformers) (2.23.0)\n",
            "Requirement already satisfied: regex in /usr/local/lib/python3.8/dist-packages (from pytorch-transformers) (2022.6.2)\n",
            "Requirement already satisfied: tqdm in /usr/local/lib/python3.8/dist-packages (from pytorch-transformers) (4.64.1)\n",
            "Requirement already satisfied: typing-extensions in /usr/local/lib/python3.8/dist-packages (from torch>=1.0.0->pytorch-transformers) (4.4.0)\n",
            "Collecting botocore<1.30.0,>=1.29.26\n",
            "  Downloading botocore-1.29.26-py3-none-any.whl (10.2 MB)\n",
            "\u001b[K     |████████████████████████████████| 10.2 MB 62.8 MB/s \n",
            "\u001b[?25hCollecting jmespath<2.0.0,>=0.7.1\n",
            "  Downloading jmespath-1.0.1-py3-none-any.whl (20 kB)\n",
            "Collecting s3transfer<0.7.0,>=0.6.0\n",
            "  Downloading s3transfer-0.6.0-py3-none-any.whl (79 kB)\n",
            "\u001b[K     |████████████████████████████████| 79 kB 9.2 MB/s \n",
            "\u001b[?25hRequirement already satisfied: python-dateutil<3.0.0,>=2.1 in /usr/local/lib/python3.8/dist-packages (from botocore<1.30.0,>=1.29.26->boto3->pytorch-transformers) (2.8.2)\n",
            "Collecting urllib3<1.27,>=1.25.4\n",
            "  Downloading urllib3-1.26.13-py2.py3-none-any.whl (140 kB)\n",
            "\u001b[K     |████████████████████████████████| 140 kB 87.7 MB/s \n",
            "\u001b[?25hRequirement already satisfied: six>=1.5 in /usr/local/lib/python3.8/dist-packages (from python-dateutil<3.0.0,>=2.1->botocore<1.30.0,>=1.29.26->boto3->pytorch-transformers) (1.15.0)\n",
            "Requirement already satisfied: certifi>=2017.4.17 in /usr/local/lib/python3.8/dist-packages (from requests->pytorch-transformers) (2022.9.24)\n",
            "  Downloading urllib3-1.25.11-py2.py3-none-any.whl (127 kB)\n",
            "\u001b[K     |████████████████████████████████| 127 kB 83.3 MB/s \n",
            "\u001b[?25hRequirement already satisfied: idna<3,>=2.5 in /usr/local/lib/python3.8/dist-packages (from requests->pytorch-transformers) (2.10)\n",
            "Requirement already satisfied: chardet<4,>=3.0.2 in /usr/local/lib/python3.8/dist-packages (from requests->pytorch-transformers) (3.0.4)\n",
            "Requirement already satisfied: click in /usr/local/lib/python3.8/dist-packages (from sacremoses->pytorch-transformers) (7.1.2)\n",
            "Requirement already satisfied: joblib in /usr/local/lib/python3.8/dist-packages (from sacremoses->pytorch-transformers) (1.2.0)\n",
            "Building wheels for collected packages: sacremoses\n",
            "  Building wheel for sacremoses (setup.py) ... \u001b[?25l\u001b[?25hdone\n",
            "  Created wheel for sacremoses: filename=sacremoses-0.0.53-py3-none-any.whl size=895260 sha256=a26a7d3120971d0827db9c9ce43f7ce49b7fbd245933bd518849b469d5338811\n",
            "  Stored in directory: /root/.cache/pip/wheels/82/ab/9b/c15899bf659ba74f623ac776e861cf2eb8608c1825ddec66a4\n",
            "Successfully built sacremoses\n",
            "Installing collected packages: urllib3, jmespath, botocore, s3transfer, sentencepiece, sacremoses, boto3, pytorch-transformers\n",
            "  Attempting uninstall: urllib3\n",
            "    Found existing installation: urllib3 1.24.3\n",
            "    Uninstalling urllib3-1.24.3:\n",
            "      Successfully uninstalled urllib3-1.24.3\n",
            "Successfully installed boto3-1.26.26 botocore-1.29.26 jmespath-1.0.1 pytorch-transformers-1.2.0 s3transfer-0.6.0 sacremoses-0.0.53 sentencepiece-0.1.97 urllib3-1.25.11\n"
          ]
        }
      ],
      "source": [
        "!pip install pytorch-transformers"
      ]
    },
    {
      "cell_type": "code",
      "execution_count": 4,
      "metadata": {
        "id": "UFaPT_uM5YJL"
      },
      "outputs": [],
      "source": [
        "## PyTorch Transformer\n",
        "from pytorch_transformers import RobertaModel, RobertaTokenizer\n",
        "from pytorch_transformers import RobertaForSequenceClassification, RobertaConfig"
      ]
    },
    {
      "cell_type": "code",
      "execution_count": 5,
      "metadata": {
        "colab": {
          "base_uri": "https://localhost:8080/"
        },
        "id": "KRzo1v6D4O2t",
        "outputId": "e7557a66-6c4a-4f49-832a-c240067f4662"
      },
      "outputs": [
        {
          "output_type": "stream",
          "name": "stdout",
          "text": [
            "True\n"
          ]
        }
      ],
      "source": [
        "## Check if Cuda is Available\n",
        "print(torch.cuda.is_available())"
      ]
    },
    {
      "cell_type": "code",
      "execution_count": null,
      "metadata": {
        "id": "OGnE-bXo3-77"
      },
      "outputs": [],
      "source": [
        "## Install PyTorch-Transformer"
      ]
    },
    {
      "cell_type": "code",
      "execution_count": 6,
      "metadata": {
        "id": "Put6o1wF3-yk",
        "colab": {
          "base_uri": "https://localhost:8080/"
        },
        "outputId": "fa256a6a-a012-4521-d8f0-fc232d099312"
      },
      "outputs": [
        {
          "output_type": "stream",
          "name": "stdout",
          "text": [
            "Looking in indexes: https://pypi.org/simple, https://us-python.pkg.dev/colab-wheels/public/simple/\n",
            "Requirement already satisfied: pytorch-transformers in /usr/local/lib/python3.8/dist-packages (1.2.0)\n",
            "Requirement already satisfied: boto3 in /usr/local/lib/python3.8/dist-packages (from pytorch-transformers) (1.26.26)\n",
            "Requirement already satisfied: sacremoses in /usr/local/lib/python3.8/dist-packages (from pytorch-transformers) (0.0.53)\n",
            "Requirement already satisfied: torch>=1.0.0 in /usr/local/lib/python3.8/dist-packages (from pytorch-transformers) (1.13.0+cu116)\n",
            "Requirement already satisfied: numpy in /usr/local/lib/python3.8/dist-packages (from pytorch-transformers) (1.21.6)\n",
            "Requirement already satisfied: regex in /usr/local/lib/python3.8/dist-packages (from pytorch-transformers) (2022.6.2)\n",
            "Requirement already satisfied: tqdm in /usr/local/lib/python3.8/dist-packages (from pytorch-transformers) (4.64.1)\n",
            "Requirement already satisfied: requests in /usr/local/lib/python3.8/dist-packages (from pytorch-transformers) (2.23.0)\n",
            "Requirement already satisfied: sentencepiece in /usr/local/lib/python3.8/dist-packages (from pytorch-transformers) (0.1.97)\n",
            "Requirement already satisfied: typing-extensions in /usr/local/lib/python3.8/dist-packages (from torch>=1.0.0->pytorch-transformers) (4.4.0)\n",
            "Requirement already satisfied: jmespath<2.0.0,>=0.7.1 in /usr/local/lib/python3.8/dist-packages (from boto3->pytorch-transformers) (1.0.1)\n",
            "Requirement already satisfied: botocore<1.30.0,>=1.29.26 in /usr/local/lib/python3.8/dist-packages (from boto3->pytorch-transformers) (1.29.26)\n",
            "Requirement already satisfied: s3transfer<0.7.0,>=0.6.0 in /usr/local/lib/python3.8/dist-packages (from boto3->pytorch-transformers) (0.6.0)\n",
            "Requirement already satisfied: urllib3<1.27,>=1.25.4 in /usr/local/lib/python3.8/dist-packages (from botocore<1.30.0,>=1.29.26->boto3->pytorch-transformers) (1.25.11)\n",
            "Requirement already satisfied: python-dateutil<3.0.0,>=2.1 in /usr/local/lib/python3.8/dist-packages (from botocore<1.30.0,>=1.29.26->boto3->pytorch-transformers) (2.8.2)\n",
            "Requirement already satisfied: six>=1.5 in /usr/local/lib/python3.8/dist-packages (from python-dateutil<3.0.0,>=2.1->botocore<1.30.0,>=1.29.26->boto3->pytorch-transformers) (1.15.0)\n",
            "Requirement already satisfied: certifi>=2017.4.17 in /usr/local/lib/python3.8/dist-packages (from requests->pytorch-transformers) (2022.9.24)\n",
            "Requirement already satisfied: chardet<4,>=3.0.2 in /usr/local/lib/python3.8/dist-packages (from requests->pytorch-transformers) (3.0.4)\n",
            "Requirement already satisfied: idna<3,>=2.5 in /usr/local/lib/python3.8/dist-packages (from requests->pytorch-transformers) (2.10)\n",
            "Requirement already satisfied: joblib in /usr/local/lib/python3.8/dist-packages (from sacremoses->pytorch-transformers) (1.2.0)\n",
            "Requirement already satisfied: click in /usr/local/lib/python3.8/dist-packages (from sacremoses->pytorch-transformers) (7.1.2)\n"
          ]
        }
      ],
      "source": [
        "!pip install -U pytorch-transformers"
      ]
    },
    {
      "cell_type": "code",
      "execution_count": null,
      "metadata": {
        "id": "hkRqK2sM3evs"
      },
      "outputs": [],
      "source": [
        "## Importing Datasets"
      ]
    },
    {
      "cell_type": "code",
      "execution_count": 7,
      "metadata": {
        "colab": {
          "base_uri": "https://localhost:8080/"
        },
        "id": "HIqwXlCy4g-U",
        "outputId": "2980e99f-59a7-4173-de80-a0ec4c1367dd"
      },
      "outputs": [
        {
          "output_type": "stream",
          "name": "stdout",
          "text": [
            "AddToPlaylist\tGetWeather  RateBook   SearchCreativeWork\n",
            "BookRestaurant\tPlayMusic   README.md  SearchScreeningEvent\n"
          ]
        }
      ],
      "source": [
        "'''\n",
        "Important Step - Make sure you upload the data file to the exact location below. If you uploaded correctlt, the following command will run\n",
        "'''\n",
        "\n",
        "!ls drive/'My Drive'/2017-06-custom-intent-engines"
      ]
    },
    {
      "cell_type": "code",
      "execution_count": 8,
      "metadata": {
        "id": "uudmDs_U39YL"
      },
      "outputs": [],
      "source": [
        "'''\n",
        "Create the Dataset Path\n",
        "'''\n",
        "\n",
        "\n",
        "dataset_path = \"drive/My Drive/2017-06-custom-intent-engines/\""
      ]
    },
    {
      "cell_type": "code",
      "execution_count": 9,
      "metadata": {
        "colab": {
          "base_uri": "https://localhost:8080/",
          "height": 328
        },
        "id": "mJi5RkLC4WsV",
        "outputId": "fe2feea6-3185-4d43-ddc4-33378df7686e"
      },
      "outputs": [
        {
          "output_type": "stream",
          "name": "stdout",
          "text": [
            "Class: AddToPlaylist, # utterances: 300\n",
            "Class: BookRestaurant, # utterances: 300\n",
            "Class: GetWeather, # utterances: 300\n",
            "Class: PlayMusic, # utterances: 300\n",
            "Class: RateBook, # utterances: 300\n",
            "Class: SearchCreativeWork, # utterances: 300\n",
            "Class: SearchScreeningEvent, # utterances: 300\n"
          ]
        },
        {
          "output_type": "execute_result",
          "data": {
            "text/plain": [
              "                                              utterance                 label\n",
              "2095  Is Across the Line playing at the closest movi...  SearchScreeningEvent\n",
              "2096  Which animated movies are playing in the neigh...  SearchScreeningEvent\n",
              "2097        Where is They Always Return at Dawn playing  SearchScreeningEvent\n",
              "2098     What is the movie schedule in the neighborhood  SearchScreeningEvent\n",
              "2099  Tell me when Howling II: Your Sister Is a Were...  SearchScreeningEvent"
            ],
            "text/html": [
              "\n",
              "  <div id=\"df-79c996e9-0c8c-4566-af8e-ee16ef91acb6\">\n",
              "    <div class=\"colab-df-container\">\n",
              "      <div>\n",
              "<style scoped>\n",
              "    .dataframe tbody tr th:only-of-type {\n",
              "        vertical-align: middle;\n",
              "    }\n",
              "\n",
              "    .dataframe tbody tr th {\n",
              "        vertical-align: top;\n",
              "    }\n",
              "\n",
              "    .dataframe thead th {\n",
              "        text-align: right;\n",
              "    }\n",
              "</style>\n",
              "<table border=\"1\" class=\"dataframe\">\n",
              "  <thead>\n",
              "    <tr style=\"text-align: right;\">\n",
              "      <th></th>\n",
              "      <th>utterance</th>\n",
              "      <th>label</th>\n",
              "    </tr>\n",
              "  </thead>\n",
              "  <tbody>\n",
              "    <tr>\n",
              "      <th>2095</th>\n",
              "      <td>Is Across the Line playing at the closest movi...</td>\n",
              "      <td>SearchScreeningEvent</td>\n",
              "    </tr>\n",
              "    <tr>\n",
              "      <th>2096</th>\n",
              "      <td>Which animated movies are playing in the neigh...</td>\n",
              "      <td>SearchScreeningEvent</td>\n",
              "    </tr>\n",
              "    <tr>\n",
              "      <th>2097</th>\n",
              "      <td>Where is They Always Return at Dawn playing</td>\n",
              "      <td>SearchScreeningEvent</td>\n",
              "    </tr>\n",
              "    <tr>\n",
              "      <th>2098</th>\n",
              "      <td>What is the movie schedule in the neighborhood</td>\n",
              "      <td>SearchScreeningEvent</td>\n",
              "    </tr>\n",
              "    <tr>\n",
              "      <th>2099</th>\n",
              "      <td>Tell me when Howling II: Your Sister Is a Were...</td>\n",
              "      <td>SearchScreeningEvent</td>\n",
              "    </tr>\n",
              "  </tbody>\n",
              "</table>\n",
              "</div>\n",
              "      <button class=\"colab-df-convert\" onclick=\"convertToInteractive('df-79c996e9-0c8c-4566-af8e-ee16ef91acb6')\"\n",
              "              title=\"Convert this dataframe to an interactive table.\"\n",
              "              style=\"display:none;\">\n",
              "        \n",
              "  <svg xmlns=\"http://www.w3.org/2000/svg\" height=\"24px\"viewBox=\"0 0 24 24\"\n",
              "       width=\"24px\">\n",
              "    <path d=\"M0 0h24v24H0V0z\" fill=\"none\"/>\n",
              "    <path d=\"M18.56 5.44l.94 2.06.94-2.06 2.06-.94-2.06-.94-.94-2.06-.94 2.06-2.06.94zm-11 1L8.5 8.5l.94-2.06 2.06-.94-2.06-.94L8.5 2.5l-.94 2.06-2.06.94zm10 10l.94 2.06.94-2.06 2.06-.94-2.06-.94-.94-2.06-.94 2.06-2.06.94z\"/><path d=\"M17.41 7.96l-1.37-1.37c-.4-.4-.92-.59-1.43-.59-.52 0-1.04.2-1.43.59L10.3 9.45l-7.72 7.72c-.78.78-.78 2.05 0 2.83L4 21.41c.39.39.9.59 1.41.59.51 0 1.02-.2 1.41-.59l7.78-7.78 2.81-2.81c.8-.78.8-2.07 0-2.86zM5.41 20L4 18.59l7.72-7.72 1.47 1.35L5.41 20z\"/>\n",
              "  </svg>\n",
              "      </button>\n",
              "      \n",
              "  <style>\n",
              "    .colab-df-container {\n",
              "      display:flex;\n",
              "      flex-wrap:wrap;\n",
              "      gap: 12px;\n",
              "    }\n",
              "\n",
              "    .colab-df-convert {\n",
              "      background-color: #E8F0FE;\n",
              "      border: none;\n",
              "      border-radius: 50%;\n",
              "      cursor: pointer;\n",
              "      display: none;\n",
              "      fill: #1967D2;\n",
              "      height: 32px;\n",
              "      padding: 0 0 0 0;\n",
              "      width: 32px;\n",
              "    }\n",
              "\n",
              "    .colab-df-convert:hover {\n",
              "      background-color: #E2EBFA;\n",
              "      box-shadow: 0px 1px 2px rgba(60, 64, 67, 0.3), 0px 1px 3px 1px rgba(60, 64, 67, 0.15);\n",
              "      fill: #174EA6;\n",
              "    }\n",
              "\n",
              "    [theme=dark] .colab-df-convert {\n",
              "      background-color: #3B4455;\n",
              "      fill: #D2E3FC;\n",
              "    }\n",
              "\n",
              "    [theme=dark] .colab-df-convert:hover {\n",
              "      background-color: #434B5C;\n",
              "      box-shadow: 0px 1px 3px 1px rgba(0, 0, 0, 0.15);\n",
              "      filter: drop-shadow(0px 1px 2px rgba(0, 0, 0, 0.3));\n",
              "      fill: #FFFFFF;\n",
              "    }\n",
              "  </style>\n",
              "\n",
              "      <script>\n",
              "        const buttonEl =\n",
              "          document.querySelector('#df-79c996e9-0c8c-4566-af8e-ee16ef91acb6 button.colab-df-convert');\n",
              "        buttonEl.style.display =\n",
              "          google.colab.kernel.accessAllowed ? 'block' : 'none';\n",
              "\n",
              "        async function convertToInteractive(key) {\n",
              "          const element = document.querySelector('#df-79c996e9-0c8c-4566-af8e-ee16ef91acb6');\n",
              "          const dataTable =\n",
              "            await google.colab.kernel.invokeFunction('convertToInteractive',\n",
              "                                                     [key], {});\n",
              "          if (!dataTable) return;\n",
              "\n",
              "          const docLinkHtml = 'Like what you see? Visit the ' +\n",
              "            '<a target=\"_blank\" href=https://colab.research.google.com/notebooks/data_table.ipynb>data table notebook</a>'\n",
              "            + ' to learn more about interactive tables.';\n",
              "          element.innerHTML = '';\n",
              "          dataTable['output_type'] = 'display_data';\n",
              "          await google.colab.output.renderOutput(dataTable, element);\n",
              "          const docLink = document.createElement('div');\n",
              "          docLink.innerHTML = docLinkHtml;\n",
              "          element.appendChild(docLink);\n",
              "        }\n",
              "      </script>\n",
              "    </div>\n",
              "  </div>\n",
              "  "
            ]
          },
          "metadata": {},
          "execution_count": 9
        }
      ],
      "source": [
        "\n",
        "'''\n",
        "***Explain*** Summarize, in bullet points, what is the code doing?.\n",
        "\n",
        "* creates a dataframe that the data will later be added to. This includes the queries and their corresponding intents\n",
        "* it then populates this dataframe again with the corresponding queries and intents. \n",
        "'''\n",
        "\n",
        "\n",
        "\n",
        "dataset = pd.DataFrame(columns = ['utterance', 'label'])\n",
        "for intent in ['AddToPlaylist', 'BookRestaurant', 'GetWeather', 'PlayMusic', 'RateBook', 'SearchCreativeWork',\n",
        "               'SearchScreeningEvent']:\n",
        "    with open(dataset_path + intent + \"/train_\" + intent + \".json\",\n",
        "              encoding='cp1251') as data_file:\n",
        "        data = json.load(data_file)\n",
        "    print(\"Class: {}, # utterances: {}\".format(intent,len(data[intent])))\n",
        "    texts = []\n",
        "    for i in range(len(data[intent])):\n",
        "        text = ''\n",
        "        for j in range(len(data[intent][i]['data'])):\n",
        "            text += data[intent][i]['data'][j]['text']\n",
        "        dataset = dataset.append({'utterance': text, 'label': intent}, ignore_index=True)\n",
        "dataset.tail()"
      ]
    },
    {
      "cell_type": "code",
      "execution_count": 10,
      "metadata": {
        "colab": {
          "base_uri": "https://localhost:8080/"
        },
        "id": "gvNXPtT-4Xed",
        "outputId": "37b6e60c-d650-49d5-cd15-4e855d2336b5"
      },
      "outputs": [
        {
          "output_type": "execute_result",
          "data": {
            "text/plain": [
              "{'AddToPlaylist': 0,\n",
              " 'BookRestaurant': 1,\n",
              " 'GetWeather': 2,\n",
              " 'PlayMusic': 3,\n",
              " 'RateBook': 4,\n",
              " 'SearchCreativeWork': 5,\n",
              " 'SearchScreeningEvent': 6}"
            ]
          },
          "metadata": {},
          "execution_count": 10
        }
      ],
      "source": [
        "'''\n",
        "Assigning an Index to each intent. We will use this later\n",
        "'''\n",
        "\n",
        "'''\n",
        "***Explain*** Why do we convert labels to indexes?. \n",
        "\n",
        "This is to make the classification process numeric. it makes for a more simple output layer.\n",
        "'''\n",
        "\n",
        "label_to_ix = {}\n",
        "for label in dataset.label:\n",
        "    for word in label.split():\n",
        "        if word not in label_to_ix:\n",
        "            label_to_ix[word]=len(label_to_ix)\n",
        "label_to_ix"
      ]
    },
    {
      "cell_type": "code",
      "execution_count": null,
      "metadata": {
        "id": "2FtiQj3n5Qqo"
      },
      "outputs": [],
      "source": [
        "## Loading RoBERTa classes"
      ]
    },
    {
      "cell_type": "code",
      "execution_count": 11,
      "metadata": {
        "colab": {
          "base_uri": "https://localhost:8080/"
        },
        "id": "0ALqUM9f5Qnx",
        "outputId": "d2c44fb3-d0f7-46e0-ab27-287eb7a76cbc"
      },
      "outputs": [
        {
          "output_type": "stream",
          "name": "stderr",
          "text": [
            "100%|██████████| 481/481 [00:00<00:00, 500362.16B/s]\n"
          ]
        },
        {
          "output_type": "execute_result",
          "data": {
            "text/plain": [
              "{\n",
              "  \"architectures\": [\n",
              "    \"RobertaForMaskedLM\"\n",
              "  ],\n",
              "  \"attention_probs_dropout_prob\": 0.1,\n",
              "  \"bos_token_id\": 0,\n",
              "  \"eos_token_id\": 2,\n",
              "  \"finetuning_task\": null,\n",
              "  \"hidden_act\": \"gelu\",\n",
              "  \"hidden_dropout_prob\": 0.1,\n",
              "  \"hidden_size\": 768,\n",
              "  \"initializer_range\": 0.02,\n",
              "  \"intermediate_size\": 3072,\n",
              "  \"layer_norm_eps\": 1e-05,\n",
              "  \"max_position_embeddings\": 514,\n",
              "  \"model_type\": \"roberta\",\n",
              "  \"num_attention_heads\": 12,\n",
              "  \"num_hidden_layers\": 12,\n",
              "  \"num_labels\": 7,\n",
              "  \"output_attentions\": false,\n",
              "  \"output_hidden_states\": false,\n",
              "  \"pad_token_id\": 1,\n",
              "  \"pruned_heads\": {},\n",
              "  \"torchscript\": false,\n",
              "  \"type_vocab_size\": 1,\n",
              "  \"vocab_size\": 50265\n",
              "}"
            ]
          },
          "metadata": {},
          "execution_count": 11
        }
      ],
      "source": [
        "config = RobertaConfig.from_pretrained('roberta-base')\n",
        "config.num_labels = len(list(label_to_ix.values()))\n",
        "config"
      ]
    },
    {
      "cell_type": "code",
      "execution_count": 12,
      "metadata": {
        "id": "b65wR6MO5Qkm",
        "colab": {
          "base_uri": "https://localhost:8080/"
        },
        "outputId": "82628947-2ede-4882-e4f5-bd42c7bc749c"
      },
      "outputs": [
        {
          "output_type": "stream",
          "name": "stderr",
          "text": [
            "100%|██████████| 898823/898823 [00:00<00:00, 25241788.94B/s]\n",
            "100%|██████████| 456318/456318 [00:00<00:00, 24004921.71B/s]\n"
          ]
        }
      ],
      "source": [
        "'''\n",
        "Loading Pretrained tokenizer and instantiating the model from settings in config\n",
        "'''\n",
        "\n",
        "'''\n",
        "***Explain*** : a. What is a tokenizer? b. What is special about the following tokenizer?. \n",
        "\n",
        "A tokenizer splits up sentences or larger objects into more component parts. In this case sentences to words.\n",
        "The roberta tokenizer is a pretrained model that can conduct this process. \n",
        "'''\n",
        "\n",
        "tokenizer = RobertaTokenizer.from_pretrained('roberta-base')\n",
        "\n",
        "'''\n",
        "***Explain*** :  What is the next line doing?\n",
        "\n",
        "This line initializes the model. \n",
        "'''\n",
        "\n",
        "model = RobertaForSequenceClassification(config)"
      ]
    },
    {
      "cell_type": "code",
      "execution_count": null,
      "metadata": {
        "id": "ZGKN5aD85Bje"
      },
      "outputs": [],
      "source": [
        "## Feature Preparation"
      ]
    },
    {
      "cell_type": "code",
      "execution_count": 14,
      "metadata": {
        "id": "qf0ATRkF5LEx"
      },
      "outputs": [],
      "source": [
        "'''\n",
        "Some important Feature Engineering\n",
        "'''\n",
        "\n",
        "'''\n",
        "***Explain*** : What are the implications for setting  include_CLS_token = True, include_SEP_token = True ?\n",
        "\n",
        "The Cls token represents sentence level classification. Sep token is for splitting up the sentences to make learning easier.\n",
        "These are used to help the model learn the input more easily.\n",
        "'''\n",
        "\n",
        "def prepare_features(seq_1, max_seq_length = 300, \n",
        "             zero_pad = False, include_CLS_token = True, include_SEP_token = True):\n",
        "    ## Tokenzine Input\n",
        "    tokens_a = tokenizer.tokenize(seq_1)\n",
        "\n",
        "    ## Truncate\n",
        "    if len(tokens_a) > max_seq_length - 2:\n",
        "        tokens_a = tokens_a[0:(max_seq_length - 2)]\n",
        "    ## Initialize Tokens\n",
        "    tokens = []\n",
        "    if include_CLS_token:\n",
        "        tokens.append(tokenizer.cls_token)\n",
        "    ## Add Tokens and separators\n",
        "    for token in tokens_a:\n",
        "        tokens.append(token)\n",
        "\n",
        "    if include_SEP_token:\n",
        "        tokens.append(tokenizer.sep_token)\n",
        "\n",
        "    input_ids = tokenizer.convert_tokens_to_ids(tokens)\n",
        "    ## Input Mask \n",
        "    input_mask = [1] * len(input_ids)\n",
        "    ## Zero-pad sequence lenght\n",
        "    if zero_pad:\n",
        "        while len(input_ids) < max_seq_length:\n",
        "            input_ids.append(0)\n",
        "            input_mask.append(0)\n",
        "    return torch.tensor(input_ids).unsqueeze(0), input_mask"
      ]
    },
    {
      "cell_type": "code",
      "execution_count": 15,
      "metadata": {
        "colab": {
          "base_uri": "https://localhost:8080/"
        },
        "id": "JDx-QxmX5Muc",
        "outputId": "6c2b8020-74f8-455f-bf74-11735916246a"
      },
      "outputs": [
        {
          "output_type": "execute_result",
          "data": {
            "text/plain": [
              "(tensor([[    0,  1308,  2335,    16, 11962,   328,     2]]),\n",
              " [1, 1, 1, 1, 1, 1, 1])"
            ]
          },
          "metadata": {},
          "execution_count": 15
        }
      ],
      "source": [
        "msg = \"My dog is cute!\"\n",
        "prepare_features(msg)"
      ]
    },
    {
      "cell_type": "code",
      "execution_count": 16,
      "metadata": {
        "id": "4pNqrigh5OIZ"
      },
      "outputs": [],
      "source": [
        "## Dataset Loader Classes"
      ]
    },
    {
      "cell_type": "code",
      "execution_count": 17,
      "metadata": {
        "id": "Pexochza5lZq"
      },
      "outputs": [],
      "source": [
        "class Intents(Dataset):\n",
        "    def __init__(self, dataframe):\n",
        "        self.len = len(dataframe)\n",
        "        self.data = dataframe\n",
        "        \n",
        "    def __getitem__(self, index):\n",
        "        utterance = self.data.utterance[index]\n",
        "        label = self.data.label[index]\n",
        "        X, _  = prepare_features(utterance)\n",
        "        y = label_to_ix[self.data.label[index]]\n",
        "        return X, y\n",
        "    \n",
        "    def __len__(self):\n",
        "        return self.len"
      ]
    },
    {
      "cell_type": "code",
      "execution_count": 18,
      "metadata": {
        "id": "oCiCHdRL5mH1"
      },
      "outputs": [],
      "source": [
        "train_size = 0.8\n",
        "train_dataset=dataset.sample(frac=train_size,random_state=200).reset_index(drop=True)\n",
        "test_dataset=dataset.drop(train_dataset.index).reset_index(drop=True)"
      ]
    },
    {
      "cell_type": "code",
      "execution_count": 19,
      "metadata": {
        "colab": {
          "base_uri": "https://localhost:8080/"
        },
        "id": "fqOFntri5yW-",
        "outputId": "a3e43d10-0722-42f1-b151-e8c834456003"
      },
      "outputs": [
        {
          "output_type": "stream",
          "name": "stdout",
          "text": [
            "FULL Dataset: (2100, 2)\n",
            "TRAIN Dataset: (1680, 2)\n",
            "TEST Dataset: (420, 2)\n"
          ]
        }
      ],
      "source": [
        "print(\"FULL Dataset: {}\".format(dataset.shape))\n",
        "print(\"TRAIN Dataset: {}\".format(train_dataset.shape))\n",
        "print(\"TEST Dataset: {}\".format(test_dataset.shape))"
      ]
    },
    {
      "cell_type": "code",
      "execution_count": 20,
      "metadata": {
        "id": "zJkGxTWZ5z5d"
      },
      "outputs": [],
      "source": [
        "training_set = Intents(train_dataset)\n",
        "testing_set = Intents(test_dataset)"
      ]
    },
    {
      "cell_type": "code",
      "execution_count": 21,
      "metadata": {
        "colab": {
          "base_uri": "https://localhost:8080/"
        },
        "id": "guYUIlVN51gE",
        "outputId": "c3655d71-e689-4ee3-b06e-604aa032810b"
      },
      "outputs": [
        {
          "output_type": "execute_result",
          "data": {
            "text/plain": [
              "torch.Size([1, 8])"
            ]
          },
          "metadata": {},
          "execution_count": 21
        }
      ],
      "source": [
        "training_set.__getitem__(0)[0].shape"
      ]
    },
    {
      "cell_type": "code",
      "execution_count": 22,
      "metadata": {
        "colab": {
          "base_uri": "https://localhost:8080/"
        },
        "id": "iuCpzlBq52qV",
        "outputId": "3d9a3dd5-a258-477b-f902-389e27c511da"
      },
      "outputs": [
        {
          "output_type": "execute_result",
          "data": {
            "text/plain": [
              "(tensor([[ 0.1852,  0.1096,  0.0946,  0.0154, -0.1428,  0.3253, -0.2342]],\n",
              "        grad_fn=<AddmmBackward0>),)"
            ]
          },
          "metadata": {},
          "execution_count": 22
        }
      ],
      "source": [
        "model(training_set.__getitem__(0)[0])"
      ]
    },
    {
      "cell_type": "code",
      "execution_count": 23,
      "metadata": {
        "id": "Z3SH63pK5339"
      },
      "outputs": [],
      "source": [
        "## Training Params"
      ]
    },
    {
      "cell_type": "code",
      "execution_count": 24,
      "metadata": {
        "id": "yYQq5eSi55mZ"
      },
      "outputs": [],
      "source": [
        "device = torch.device(\"cuda\" if torch.cuda.is_available() else \"cpu\")\n",
        "model = model.cuda()"
      ]
    },
    {
      "cell_type": "code",
      "execution_count": 25,
      "metadata": {
        "id": "H6MIe-fe6PY2"
      },
      "outputs": [],
      "source": [
        "# Parameters\n",
        "params = {'batch_size': 1,\n",
        "          'shuffle': True,\n",
        "          'drop_last': False,\n",
        "          'num_workers': 1}"
      ]
    },
    {
      "cell_type": "code",
      "execution_count": 26,
      "metadata": {
        "id": "egs1bYCe6UOL"
      },
      "outputs": [],
      "source": [
        "training_loader = DataLoader(training_set, **params)\n",
        "testing_loader = DataLoader(testing_set, **params)"
      ]
    },
    {
      "cell_type": "code",
      "execution_count": 28,
      "metadata": {
        "id": "0RfrS14A6WGV",
        "colab": {
          "base_uri": "https://localhost:8080/"
        },
        "outputId": "4ca597b2-e406-4184-9cfe-3dd197ae7739"
      },
      "outputs": [
        {
          "output_type": "execute_result",
          "data": {
            "text/plain": [
              "RobertaForSequenceClassification(\n",
              "  (roberta): RobertaModel(\n",
              "    (embeddings): RobertaEmbeddings(\n",
              "      (word_embeddings): Embedding(50265, 768, padding_idx=0)\n",
              "      (position_embeddings): Embedding(514, 768)\n",
              "      (token_type_embeddings): Embedding(1, 768)\n",
              "      (LayerNorm): LayerNorm((768,), eps=1e-05, elementwise_affine=True)\n",
              "      (dropout): Dropout(p=0.1, inplace=False)\n",
              "    )\n",
              "    (encoder): BertEncoder(\n",
              "      (layer): ModuleList(\n",
              "        (0): BertLayer(\n",
              "          (attention): BertAttention(\n",
              "            (self): BertSelfAttention(\n",
              "              (query): Linear(in_features=768, out_features=768, bias=True)\n",
              "              (key): Linear(in_features=768, out_features=768, bias=True)\n",
              "              (value): Linear(in_features=768, out_features=768, bias=True)\n",
              "              (dropout): Dropout(p=0.1, inplace=False)\n",
              "            )\n",
              "            (output): BertSelfOutput(\n",
              "              (dense): Linear(in_features=768, out_features=768, bias=True)\n",
              "              (LayerNorm): LayerNorm((768,), eps=1e-05, elementwise_affine=True)\n",
              "              (dropout): Dropout(p=0.1, inplace=False)\n",
              "            )\n",
              "          )\n",
              "          (intermediate): BertIntermediate(\n",
              "            (dense): Linear(in_features=768, out_features=3072, bias=True)\n",
              "          )\n",
              "          (output): BertOutput(\n",
              "            (dense): Linear(in_features=3072, out_features=768, bias=True)\n",
              "            (LayerNorm): LayerNorm((768,), eps=1e-05, elementwise_affine=True)\n",
              "            (dropout): Dropout(p=0.1, inplace=False)\n",
              "          )\n",
              "        )\n",
              "        (1): BertLayer(\n",
              "          (attention): BertAttention(\n",
              "            (self): BertSelfAttention(\n",
              "              (query): Linear(in_features=768, out_features=768, bias=True)\n",
              "              (key): Linear(in_features=768, out_features=768, bias=True)\n",
              "              (value): Linear(in_features=768, out_features=768, bias=True)\n",
              "              (dropout): Dropout(p=0.1, inplace=False)\n",
              "            )\n",
              "            (output): BertSelfOutput(\n",
              "              (dense): Linear(in_features=768, out_features=768, bias=True)\n",
              "              (LayerNorm): LayerNorm((768,), eps=1e-05, elementwise_affine=True)\n",
              "              (dropout): Dropout(p=0.1, inplace=False)\n",
              "            )\n",
              "          )\n",
              "          (intermediate): BertIntermediate(\n",
              "            (dense): Linear(in_features=768, out_features=3072, bias=True)\n",
              "          )\n",
              "          (output): BertOutput(\n",
              "            (dense): Linear(in_features=3072, out_features=768, bias=True)\n",
              "            (LayerNorm): LayerNorm((768,), eps=1e-05, elementwise_affine=True)\n",
              "            (dropout): Dropout(p=0.1, inplace=False)\n",
              "          )\n",
              "        )\n",
              "        (2): BertLayer(\n",
              "          (attention): BertAttention(\n",
              "            (self): BertSelfAttention(\n",
              "              (query): Linear(in_features=768, out_features=768, bias=True)\n",
              "              (key): Linear(in_features=768, out_features=768, bias=True)\n",
              "              (value): Linear(in_features=768, out_features=768, bias=True)\n",
              "              (dropout): Dropout(p=0.1, inplace=False)\n",
              "            )\n",
              "            (output): BertSelfOutput(\n",
              "              (dense): Linear(in_features=768, out_features=768, bias=True)\n",
              "              (LayerNorm): LayerNorm((768,), eps=1e-05, elementwise_affine=True)\n",
              "              (dropout): Dropout(p=0.1, inplace=False)\n",
              "            )\n",
              "          )\n",
              "          (intermediate): BertIntermediate(\n",
              "            (dense): Linear(in_features=768, out_features=3072, bias=True)\n",
              "          )\n",
              "          (output): BertOutput(\n",
              "            (dense): Linear(in_features=3072, out_features=768, bias=True)\n",
              "            (LayerNorm): LayerNorm((768,), eps=1e-05, elementwise_affine=True)\n",
              "            (dropout): Dropout(p=0.1, inplace=False)\n",
              "          )\n",
              "        )\n",
              "        (3): BertLayer(\n",
              "          (attention): BertAttention(\n",
              "            (self): BertSelfAttention(\n",
              "              (query): Linear(in_features=768, out_features=768, bias=True)\n",
              "              (key): Linear(in_features=768, out_features=768, bias=True)\n",
              "              (value): Linear(in_features=768, out_features=768, bias=True)\n",
              "              (dropout): Dropout(p=0.1, inplace=False)\n",
              "            )\n",
              "            (output): BertSelfOutput(\n",
              "              (dense): Linear(in_features=768, out_features=768, bias=True)\n",
              "              (LayerNorm): LayerNorm((768,), eps=1e-05, elementwise_affine=True)\n",
              "              (dropout): Dropout(p=0.1, inplace=False)\n",
              "            )\n",
              "          )\n",
              "          (intermediate): BertIntermediate(\n",
              "            (dense): Linear(in_features=768, out_features=3072, bias=True)\n",
              "          )\n",
              "          (output): BertOutput(\n",
              "            (dense): Linear(in_features=3072, out_features=768, bias=True)\n",
              "            (LayerNorm): LayerNorm((768,), eps=1e-05, elementwise_affine=True)\n",
              "            (dropout): Dropout(p=0.1, inplace=False)\n",
              "          )\n",
              "        )\n",
              "        (4): BertLayer(\n",
              "          (attention): BertAttention(\n",
              "            (self): BertSelfAttention(\n",
              "              (query): Linear(in_features=768, out_features=768, bias=True)\n",
              "              (key): Linear(in_features=768, out_features=768, bias=True)\n",
              "              (value): Linear(in_features=768, out_features=768, bias=True)\n",
              "              (dropout): Dropout(p=0.1, inplace=False)\n",
              "            )\n",
              "            (output): BertSelfOutput(\n",
              "              (dense): Linear(in_features=768, out_features=768, bias=True)\n",
              "              (LayerNorm): LayerNorm((768,), eps=1e-05, elementwise_affine=True)\n",
              "              (dropout): Dropout(p=0.1, inplace=False)\n",
              "            )\n",
              "          )\n",
              "          (intermediate): BertIntermediate(\n",
              "            (dense): Linear(in_features=768, out_features=3072, bias=True)\n",
              "          )\n",
              "          (output): BertOutput(\n",
              "            (dense): Linear(in_features=3072, out_features=768, bias=True)\n",
              "            (LayerNorm): LayerNorm((768,), eps=1e-05, elementwise_affine=True)\n",
              "            (dropout): Dropout(p=0.1, inplace=False)\n",
              "          )\n",
              "        )\n",
              "        (5): BertLayer(\n",
              "          (attention): BertAttention(\n",
              "            (self): BertSelfAttention(\n",
              "              (query): Linear(in_features=768, out_features=768, bias=True)\n",
              "              (key): Linear(in_features=768, out_features=768, bias=True)\n",
              "              (value): Linear(in_features=768, out_features=768, bias=True)\n",
              "              (dropout): Dropout(p=0.1, inplace=False)\n",
              "            )\n",
              "            (output): BertSelfOutput(\n",
              "              (dense): Linear(in_features=768, out_features=768, bias=True)\n",
              "              (LayerNorm): LayerNorm((768,), eps=1e-05, elementwise_affine=True)\n",
              "              (dropout): Dropout(p=0.1, inplace=False)\n",
              "            )\n",
              "          )\n",
              "          (intermediate): BertIntermediate(\n",
              "            (dense): Linear(in_features=768, out_features=3072, bias=True)\n",
              "          )\n",
              "          (output): BertOutput(\n",
              "            (dense): Linear(in_features=3072, out_features=768, bias=True)\n",
              "            (LayerNorm): LayerNorm((768,), eps=1e-05, elementwise_affine=True)\n",
              "            (dropout): Dropout(p=0.1, inplace=False)\n",
              "          )\n",
              "        )\n",
              "        (6): BertLayer(\n",
              "          (attention): BertAttention(\n",
              "            (self): BertSelfAttention(\n",
              "              (query): Linear(in_features=768, out_features=768, bias=True)\n",
              "              (key): Linear(in_features=768, out_features=768, bias=True)\n",
              "              (value): Linear(in_features=768, out_features=768, bias=True)\n",
              "              (dropout): Dropout(p=0.1, inplace=False)\n",
              "            )\n",
              "            (output): BertSelfOutput(\n",
              "              (dense): Linear(in_features=768, out_features=768, bias=True)\n",
              "              (LayerNorm): LayerNorm((768,), eps=1e-05, elementwise_affine=True)\n",
              "              (dropout): Dropout(p=0.1, inplace=False)\n",
              "            )\n",
              "          )\n",
              "          (intermediate): BertIntermediate(\n",
              "            (dense): Linear(in_features=768, out_features=3072, bias=True)\n",
              "          )\n",
              "          (output): BertOutput(\n",
              "            (dense): Linear(in_features=3072, out_features=768, bias=True)\n",
              "            (LayerNorm): LayerNorm((768,), eps=1e-05, elementwise_affine=True)\n",
              "            (dropout): Dropout(p=0.1, inplace=False)\n",
              "          )\n",
              "        )\n",
              "        (7): BertLayer(\n",
              "          (attention): BertAttention(\n",
              "            (self): BertSelfAttention(\n",
              "              (query): Linear(in_features=768, out_features=768, bias=True)\n",
              "              (key): Linear(in_features=768, out_features=768, bias=True)\n",
              "              (value): Linear(in_features=768, out_features=768, bias=True)\n",
              "              (dropout): Dropout(p=0.1, inplace=False)\n",
              "            )\n",
              "            (output): BertSelfOutput(\n",
              "              (dense): Linear(in_features=768, out_features=768, bias=True)\n",
              "              (LayerNorm): LayerNorm((768,), eps=1e-05, elementwise_affine=True)\n",
              "              (dropout): Dropout(p=0.1, inplace=False)\n",
              "            )\n",
              "          )\n",
              "          (intermediate): BertIntermediate(\n",
              "            (dense): Linear(in_features=768, out_features=3072, bias=True)\n",
              "          )\n",
              "          (output): BertOutput(\n",
              "            (dense): Linear(in_features=3072, out_features=768, bias=True)\n",
              "            (LayerNorm): LayerNorm((768,), eps=1e-05, elementwise_affine=True)\n",
              "            (dropout): Dropout(p=0.1, inplace=False)\n",
              "          )\n",
              "        )\n",
              "        (8): BertLayer(\n",
              "          (attention): BertAttention(\n",
              "            (self): BertSelfAttention(\n",
              "              (query): Linear(in_features=768, out_features=768, bias=True)\n",
              "              (key): Linear(in_features=768, out_features=768, bias=True)\n",
              "              (value): Linear(in_features=768, out_features=768, bias=True)\n",
              "              (dropout): Dropout(p=0.1, inplace=False)\n",
              "            )\n",
              "            (output): BertSelfOutput(\n",
              "              (dense): Linear(in_features=768, out_features=768, bias=True)\n",
              "              (LayerNorm): LayerNorm((768,), eps=1e-05, elementwise_affine=True)\n",
              "              (dropout): Dropout(p=0.1, inplace=False)\n",
              "            )\n",
              "          )\n",
              "          (intermediate): BertIntermediate(\n",
              "            (dense): Linear(in_features=768, out_features=3072, bias=True)\n",
              "          )\n",
              "          (output): BertOutput(\n",
              "            (dense): Linear(in_features=3072, out_features=768, bias=True)\n",
              "            (LayerNorm): LayerNorm((768,), eps=1e-05, elementwise_affine=True)\n",
              "            (dropout): Dropout(p=0.1, inplace=False)\n",
              "          )\n",
              "        )\n",
              "        (9): BertLayer(\n",
              "          (attention): BertAttention(\n",
              "            (self): BertSelfAttention(\n",
              "              (query): Linear(in_features=768, out_features=768, bias=True)\n",
              "              (key): Linear(in_features=768, out_features=768, bias=True)\n",
              "              (value): Linear(in_features=768, out_features=768, bias=True)\n",
              "              (dropout): Dropout(p=0.1, inplace=False)\n",
              "            )\n",
              "            (output): BertSelfOutput(\n",
              "              (dense): Linear(in_features=768, out_features=768, bias=True)\n",
              "              (LayerNorm): LayerNorm((768,), eps=1e-05, elementwise_affine=True)\n",
              "              (dropout): Dropout(p=0.1, inplace=False)\n",
              "            )\n",
              "          )\n",
              "          (intermediate): BertIntermediate(\n",
              "            (dense): Linear(in_features=768, out_features=3072, bias=True)\n",
              "          )\n",
              "          (output): BertOutput(\n",
              "            (dense): Linear(in_features=3072, out_features=768, bias=True)\n",
              "            (LayerNorm): LayerNorm((768,), eps=1e-05, elementwise_affine=True)\n",
              "            (dropout): Dropout(p=0.1, inplace=False)\n",
              "          )\n",
              "        )\n",
              "        (10): BertLayer(\n",
              "          (attention): BertAttention(\n",
              "            (self): BertSelfAttention(\n",
              "              (query): Linear(in_features=768, out_features=768, bias=True)\n",
              "              (key): Linear(in_features=768, out_features=768, bias=True)\n",
              "              (value): Linear(in_features=768, out_features=768, bias=True)\n",
              "              (dropout): Dropout(p=0.1, inplace=False)\n",
              "            )\n",
              "            (output): BertSelfOutput(\n",
              "              (dense): Linear(in_features=768, out_features=768, bias=True)\n",
              "              (LayerNorm): LayerNorm((768,), eps=1e-05, elementwise_affine=True)\n",
              "              (dropout): Dropout(p=0.1, inplace=False)\n",
              "            )\n",
              "          )\n",
              "          (intermediate): BertIntermediate(\n",
              "            (dense): Linear(in_features=768, out_features=3072, bias=True)\n",
              "          )\n",
              "          (output): BertOutput(\n",
              "            (dense): Linear(in_features=3072, out_features=768, bias=True)\n",
              "            (LayerNorm): LayerNorm((768,), eps=1e-05, elementwise_affine=True)\n",
              "            (dropout): Dropout(p=0.1, inplace=False)\n",
              "          )\n",
              "        )\n",
              "        (11): BertLayer(\n",
              "          (attention): BertAttention(\n",
              "            (self): BertSelfAttention(\n",
              "              (query): Linear(in_features=768, out_features=768, bias=True)\n",
              "              (key): Linear(in_features=768, out_features=768, bias=True)\n",
              "              (value): Linear(in_features=768, out_features=768, bias=True)\n",
              "              (dropout): Dropout(p=0.1, inplace=False)\n",
              "            )\n",
              "            (output): BertSelfOutput(\n",
              "              (dense): Linear(in_features=768, out_features=768, bias=True)\n",
              "              (LayerNorm): LayerNorm((768,), eps=1e-05, elementwise_affine=True)\n",
              "              (dropout): Dropout(p=0.1, inplace=False)\n",
              "            )\n",
              "          )\n",
              "          (intermediate): BertIntermediate(\n",
              "            (dense): Linear(in_features=768, out_features=3072, bias=True)\n",
              "          )\n",
              "          (output): BertOutput(\n",
              "            (dense): Linear(in_features=3072, out_features=768, bias=True)\n",
              "            (LayerNorm): LayerNorm((768,), eps=1e-05, elementwise_affine=True)\n",
              "            (dropout): Dropout(p=0.1, inplace=False)\n",
              "          )\n",
              "        )\n",
              "      )\n",
              "    )\n",
              "    (pooler): BertPooler(\n",
              "      (dense): Linear(in_features=768, out_features=768, bias=True)\n",
              "      (activation): Tanh()\n",
              "    )\n",
              "  )\n",
              "  (classifier): RobertaClassificationHead(\n",
              "    (dense): Linear(in_features=768, out_features=768, bias=True)\n",
              "    (dropout): Dropout(p=0.1, inplace=False)\n",
              "    (out_proj): Linear(in_features=768, out_features=7, bias=True)\n",
              "  )\n",
              ")"
            ]
          },
          "metadata": {},
          "execution_count": 28
        }
      ],
      "source": [
        "'''\n",
        "Instantiate the Loss\n",
        "'''\n",
        "'''\n",
        "***Explain*** why cross entropy loss?, also print the model and explain why are not we using softmax at the end?\n",
        "\n",
        "Cross entropy loss uses a softmax and essentially learns the probabilities of predicting an input to each class.\n",
        "It works well for classification tasks, outperforming MSE which is often used for regression instead.\n",
        "The softmax takes the input logits and converts them to output probabilities of assigning to a class.\n",
        "'''\n",
        "loss_function = nn.CrossEntropyLoss()\n",
        "learning_rate = 1e-05\n",
        "optimizer = optim.Adam(params =  model.parameters(), lr=learning_rate)\n",
        "\n",
        "model"
      ]
    },
    {
      "cell_type": "code",
      "execution_count": 29,
      "metadata": {
        "colab": {
          "base_uri": "https://localhost:8080/"
        },
        "id": "-n3p7ncn6Xst",
        "outputId": "56372c99-86a9-44bf-9dbf-ff4e93fa7619"
      },
      "outputs": [
        {
          "output_type": "stream",
          "name": "stdout",
          "text": [
            "torch.Size([1, 7])\n"
          ]
        }
      ],
      "source": [
        "## Test Forward Pass\n",
        "inp = training_set.__getitem__(0)[0].cuda()\n",
        "output = model(inp)[0]\n",
        "print(output.shape)"
      ]
    },
    {
      "cell_type": "code",
      "execution_count": 30,
      "metadata": {
        "colab": {
          "base_uri": "https://localhost:8080/",
          "height": 36
        },
        "id": "AahQQllgKQ4F",
        "outputId": "883354c8-4c27-449b-e751-6ccd0b048e86"
      },
      "outputs": [
        {
          "output_type": "execute_result",
          "data": {
            "text/plain": [
              "'1.13.0+cu116'"
            ],
            "application/vnd.google.colaboratory.intrinsic+json": {
              "type": "string"
            }
          },
          "metadata": {},
          "execution_count": 30
        }
      ],
      "source": [
        "torch.__version__"
      ]
    },
    {
      "cell_type": "code",
      "execution_count": 31,
      "metadata": {
        "colab": {
          "base_uri": "https://localhost:8080/",
          "height": 1000,
          "referenced_widgets": [
            "5c87bcaffac24196a2272745eb8f23a6",
            "9c2c637357974bd088a03ec1642d7b7d",
            "31df551f31e84c8e9c0724c9cbbc3705",
            "74e08887b5de45d3aa5896a8d0877604",
            "c1f04c08e113470db7b3ebf83387c3d1",
            "2776be88489d4ae38b1de1dea257412e",
            "788655960fd948a28ce2da6164c4f9d0",
            "a3477618241e4f5e8347516a4e4930a0",
            "99561c1e1e0a42a38bdd196c571d3f80",
            "f6fa1c46b96e4af891eb93f4904529fc",
            "601c32f97f4e4b33b6df46a15d53f545"
          ]
        },
        "id": "xoRJhLY06evJ",
        "outputId": "41f01077-7e1a-48ef-b02b-e8bd7f7afa6b"
      },
      "outputs": [
        {
          "output_type": "stream",
          "name": "stderr",
          "text": [
            "<ipython-input-31-d42809b7fdc6>:14: TqdmDeprecationWarning: This function will be removed in tqdm==5.0.0\n",
            "Please use `tqdm.notebook.tqdm` instead of `tqdm.tqdm_notebook`\n",
            "  for epoch in tqdm_notebook(range(max_epochs)):\n"
          ]
        },
        {
          "output_type": "display_data",
          "data": {
            "text/plain": [
              "  0%|          | 0/3 [00:00<?, ?it/s]"
            ],
            "application/vnd.jupyter.widget-view+json": {
              "version_major": 2,
              "version_minor": 0,
              "model_id": "5c87bcaffac24196a2272745eb8f23a6"
            }
          },
          "metadata": {}
        },
        {
          "output_type": "stream",
          "name": "stdout",
          "text": [
            "EPOCH -- 0\n",
            "Iteration: 0. Loss: 2.275467872619629. Accuracy: 65.71428571428571%\n",
            "Iteration: 100. Loss: 2.5343434810638428. Accuracy: 0.0%\n",
            "Iteration: 200. Loss: 2.390566349029541. Accuracy: 27.61904761904762%\n",
            "Iteration: 300. Loss: 1.6814866065979004. Accuracy: 2.142857142857143%\n",
            "Iteration: 400. Loss: 1.5779132843017578. Accuracy: 0.0%\n",
            "Iteration: 500. Loss: 0.19182948768138885. Accuracy: 0.9523809523809523%\n",
            "Iteration: 600. Loss: 0.7568603157997131. Accuracy: 48.57142857142857%\n",
            "Iteration: 700. Loss: 0.532332181930542. Accuracy: 34.04761904761905%\n",
            "Iteration: 800. Loss: 0.5287597179412842. Accuracy: 77.14285714285714%\n",
            "Iteration: 900. Loss: 0.18333157896995544. Accuracy: 73.0952380952381%\n",
            "Iteration: 1000. Loss: 1.8169546127319336. Accuracy: 31.19047619047619%\n",
            "Iteration: 1100. Loss: 0.15359678864479065. Accuracy: 72.85714285714286%\n",
            "Iteration: 1200. Loss: 0.2900727391242981. Accuracy: 95.47619047619048%\n",
            "Iteration: 1300. Loss: 0.23414534330368042. Accuracy: 82.61904761904762%\n",
            "Iteration: 1400. Loss: 0.4782484173774719. Accuracy: 90.23809523809524%\n",
            "Iteration: 1500. Loss: 0.042281270027160645. Accuracy: 83.33333333333333%\n",
            "Iteration: 1600. Loss: 0.09063179790973663. Accuracy: 90.47619047619048%\n",
            "EPOCH -- 1\n",
            "Iteration: 0. Loss: 0.11512967944145203. Accuracy: 74.76190476190476%\n",
            "Iteration: 100. Loss: 0.08087286353111267. Accuracy: 60.0%\n",
            "Iteration: 200. Loss: 0.04225555807352066. Accuracy: 88.33333333333333%\n",
            "Iteration: 300. Loss: 0.02402956597507. Accuracy: 96.42857142857143%\n",
            "Iteration: 400. Loss: 0.03548244759440422. Accuracy: 84.28571428571429%\n",
            "Iteration: 500. Loss: 0.016339197754859924. Accuracy: 82.38095238095238%\n",
            "Iteration: 600. Loss: 0.07467638701200485. Accuracy: 87.14285714285714%\n",
            "Iteration: 700. Loss: 0.02627072110772133. Accuracy: 88.80952380952381%\n",
            "Iteration: 800. Loss: 0.041982170194387436. Accuracy: 85.71428571428571%\n",
            "Iteration: 900. Loss: 0.03495248407125473. Accuracy: 91.66666666666667%\n",
            "Iteration: 1000. Loss: 0.013494346290826797. Accuracy: 94.76190476190476%\n",
            "Iteration: 1100. Loss: 2.641749858856201. Accuracy: 91.19047619047619%\n",
            "Iteration: 1200. Loss: 0.007297881878912449. Accuracy: 96.66666666666667%\n",
            "Iteration: 1300. Loss: 0.009410074912011623. Accuracy: 96.19047619047619%\n",
            "Iteration: 1400. Loss: 0.003767655696719885. Accuracy: 94.04761904761905%\n",
            "Iteration: 1500. Loss: 0.01556322444230318. Accuracy: 98.80952380952381%\n",
            "Iteration: 1600. Loss: 0.035849057137966156. Accuracy: 97.14285714285714%\n",
            "EPOCH -- 2\n",
            "Iteration: 0. Loss: 0.004400332923978567. Accuracy: 60.476190476190474%\n",
            "Iteration: 100. Loss: 0.016069071367383003. Accuracy: 99.04761904761905%\n",
            "Iteration: 200. Loss: 3.5393099784851074. Accuracy: 92.38095238095238%\n",
            "Iteration: 300. Loss: 0.013963505625724792. Accuracy: 91.19047619047619%\n",
            "Iteration: 400. Loss: 0.011954332701861858. Accuracy: 96.9047619047619%\n",
            "Iteration: 500. Loss: 0.017048943787813187. Accuracy: 97.61904761904762%\n",
            "Iteration: 600. Loss: 0.008017263375222683. Accuracy: 99.52380952380952%\n",
            "Iteration: 700. Loss: 0.009093181230127811. Accuracy: 99.76190476190476%\n",
            "Iteration: 800. Loss: 0.013890618458390236. Accuracy: 96.42857142857143%\n",
            "Iteration: 900. Loss: 0.011003765277564526. Accuracy: 98.33333333333333%\n",
            "Iteration: 1000. Loss: 0.012749942019581795. Accuracy: 95.23809523809524%\n",
            "Iteration: 1100. Loss: 0.005339172203093767. Accuracy: 29.523809523809526%\n",
            "Iteration: 1200. Loss: 0.04414665326476097. Accuracy: 98.57142857142857%\n",
            "Iteration: 1300. Loss: 0.0164965707808733. Accuracy: 99.76190476190476%\n",
            "Iteration: 1400. Loss: 0.005148604512214661. Accuracy: 97.85714285714286%\n",
            "Iteration: 1500. Loss: 0.0048626260831952095. Accuracy: 94.28571428571429%\n",
            "Iteration: 1600. Loss: 4.279227256774902. Accuracy: 95.95238095238095%\n"
          ]
        }
      ],
      "source": [
        "'''\n",
        "Actually train the model with train data\n",
        "'''\n",
        "'''\n",
        "***Explain*** the Training Code Chunk in detail. Especially what is torch.max() doing here?\n",
        "\n",
        "So for each training example it runs it forward through the model and comes up with a prediction for what intent that query was. \n",
        "The important part of the torch.max() is that it is taking the classifier index with the maximum calculated probability from the cross entropy loss.\n",
        "Then the loss is backpropogated through the model. I notice this is not being done in batches but rather for each training example.\n",
        "The last section is for printing purposes.\n",
        "'''\n",
        "\n",
        "\n",
        "\n",
        "max_epochs = 3\n",
        "model = model.train()\n",
        "for epoch in tqdm_notebook(range(max_epochs)):\n",
        "    print(\"EPOCH -- {}\".format(epoch))\n",
        "    for i, (sent, label) in enumerate(training_loader):\n",
        "        optimizer.zero_grad()\n",
        "        sent = sent.squeeze(0)\n",
        "        if torch.cuda.is_available():\n",
        "          sent = sent.cuda()\n",
        "          label = label.cuda()\n",
        "        output = model.forward(sent)[0]\n",
        "        _, predicted = torch.max(output, 1)\n",
        "        \n",
        "        loss = loss_function(output, label)\n",
        "        loss.backward()\n",
        "        optimizer.step()\n",
        "        \n",
        "        if i%100 == 0:\n",
        "            correct = 0\n",
        "            total = 0\n",
        "            for sent, label in testing_loader:\n",
        "                sent = sent.squeeze(0)\n",
        "                if torch.cuda.is_available():\n",
        "                  sent = sent.cuda()\n",
        "                  label = label.cuda()\n",
        "                output = model.forward(sent)[0]\n",
        "                _, predicted = torch.max(output.data, 1)\n",
        "                total += label.size(0)\n",
        "                correct += (predicted.cpu() == label.cpu()).sum()\n",
        "            accuracy = 100.00 * correct.numpy() / total\n",
        "            print('Iteration: {}. Loss: {}. Accuracy: {}%'.format(i, loss.item(), accuracy))"
      ]
    },
    {
      "cell_type": "code",
      "execution_count": null,
      "metadata": {
        "id": "zswPnTBBh9to"
      },
      "outputs": [],
      "source": []
    },
    {
      "cell_type": "code",
      "execution_count": 32,
      "metadata": {
        "id": "AUJIKtiINAHb"
      },
      "outputs": [],
      "source": [
        "'''\n",
        "***Explain*** what is the get_reply function doing?\n",
        "\n",
        "The get reply function takes in a new query and uses our trained model ot predict the output intent. \n",
        "This is a helper function for making new predictions using the trained model.\n",
        "'''\n",
        "def get_reply(msg):\n",
        "  model.eval()\n",
        "  input_msg, _ = prepare_features(msg)\n",
        "  if torch.cuda.is_available():\n",
        "    input_msg = input_msg.cuda()\n",
        "  output = model(input_msg)[0]\n",
        "  _, pred_label = torch.max(output.data, 1)\n",
        "  prediction=list(label_to_ix.keys())[pred_label]\n",
        "  return prediction"
      ]
    },
    {
      "cell_type": "code",
      "execution_count": 33,
      "metadata": {
        "colab": {
          "base_uri": "https://localhost:8080/"
        },
        "id": "QTMIQUTWNmEp",
        "outputId": "de5db58f-53f8-4536-91b7-7e36ae134d06"
      },
      "outputs": [
        {
          "output_type": "execute_result",
          "data": {
            "text/plain": [
              "dict_keys(['AddToPlaylist', 'BookRestaurant', 'GetWeather', 'PlayMusic', 'RateBook', 'SearchCreativeWork', 'SearchScreeningEvent'])"
            ]
          },
          "metadata": {},
          "execution_count": 33
        }
      ],
      "source": [
        "label_to_ix.keys()"
      ]
    },
    {
      "cell_type": "code",
      "execution_count": 34,
      "metadata": {
        "colab": {
          "base_uri": "https://localhost:8080/",
          "height": 36
        },
        "id": "UqEuS5a-NkGo",
        "outputId": "52717d6b-75a4-43e3-fab1-551d6299c2ca"
      },
      "outputs": [
        {
          "output_type": "execute_result",
          "data": {
            "text/plain": [
              "'PlayMusic'"
            ],
            "application/vnd.google.colaboratory.intrinsic+json": {
              "type": "string"
            }
          },
          "metadata": {},
          "execution_count": 34
        }
      ],
      "source": [
        "'''Different text sentences pass to the model'''\n",
        "\n",
        "get_reply(\"play radiohead song\")"
      ]
    },
    {
      "cell_type": "code",
      "execution_count": 35,
      "metadata": {
        "colab": {
          "base_uri": "https://localhost:8080/",
          "height": 36
        },
        "id": "PoAquwkMO8mB",
        "outputId": "72f5b7ba-3134-48c3-8d59-f1331d8d33a2"
      },
      "outputs": [
        {
          "output_type": "execute_result",
          "data": {
            "text/plain": [
              "'GetWeather'"
            ],
            "application/vnd.google.colaboratory.intrinsic+json": {
              "type": "string"
            }
          },
          "metadata": {},
          "execution_count": 35
        }
      ],
      "source": [
        "get_reply(\"it is rainy in Sao Paulo\")"
      ]
    },
    {
      "cell_type": "code",
      "execution_count": 36,
      "metadata": {
        "id": "pBVApLSXimEa",
        "colab": {
          "base_uri": "https://localhost:8080/",
          "height": 36
        },
        "outputId": "24925270-b58e-405f-83ba-751677ff96d0"
      },
      "outputs": [
        {
          "output_type": "execute_result",
          "data": {
            "text/plain": [
              "'GetWeather'"
            ],
            "application/vnd.google.colaboratory.intrinsic+json": {
              "type": "string"
            }
          },
          "metadata": {},
          "execution_count": 36
        }
      ],
      "source": [
        "get_reply(\"sun shinnes all day\")"
      ]
    },
    {
      "cell_type": "code",
      "execution_count": 37,
      "metadata": {
        "id": "uu5LiiHOip6l",
        "colab": {
          "base_uri": "https://localhost:8080/",
          "height": 36
        },
        "outputId": "e63756e3-7793-4ba5-d6ba-ecf8b5e85def"
      },
      "outputs": [
        {
          "output_type": "execute_result",
          "data": {
            "text/plain": [
              "'SearchCreativeWork'"
            ],
            "application/vnd.google.colaboratory.intrinsic+json": {
              "type": "string"
            }
          },
          "metadata": {},
          "execution_count": 37
        }
      ],
      "source": [
        "get_reply(\"low humidity, high altitude\")"
      ]
    },
    {
      "cell_type": "code",
      "execution_count": 38,
      "metadata": {
        "id": "lZjsxgEIO8g0",
        "colab": {
          "base_uri": "https://localhost:8080/",
          "height": 36
        },
        "outputId": "ec83d435-5bed-4bd8-fdf0-4f6e3e60ba90"
      },
      "outputs": [
        {
          "output_type": "execute_result",
          "data": {
            "text/plain": [
              "'BookRestaurant'"
            ],
            "application/vnd.google.colaboratory.intrinsic+json": {
              "type": "string"
            }
          },
          "metadata": {},
          "execution_count": 38
        }
      ],
      "source": [
        "get_reply(\"Book tacos for me tonight\")"
      ]
    },
    {
      "cell_type": "code",
      "execution_count": 39,
      "metadata": {
        "id": "a0NOU4AuO8VA",
        "colab": {
          "base_uri": "https://localhost:8080/",
          "height": 36
        },
        "outputId": "ffe31458-3c76-4a1b-e497-801de66cf4cf"
      },
      "outputs": [
        {
          "output_type": "execute_result",
          "data": {
            "text/plain": [
              "'BookRestaurant'"
            ],
            "application/vnd.google.colaboratory.intrinsic+json": {
              "type": "string"
            }
          },
          "metadata": {},
          "execution_count": 39
        }
      ],
      "source": [
        "get_reply(\"Book a table for me tonight\")"
      ]
    },
    {
      "cell_type": "code",
      "execution_count": 40,
      "metadata": {
        "id": "YLX3-pmy2khU",
        "colab": {
          "base_uri": "https://localhost:8080/",
          "height": 36
        },
        "outputId": "69335ecd-942f-49af-d7c1-84347d432b2b"
      },
      "outputs": [
        {
          "output_type": "execute_result",
          "data": {
            "text/plain": [
              "'BookRestaurant'"
            ],
            "application/vnd.google.colaboratory.intrinsic+json": {
              "type": "string"
            }
          },
          "metadata": {},
          "execution_count": 40
        }
      ],
      "source": [
        "get_reply(\"I want BBQ tonight\")"
      ]
    },
    {
      "cell_type": "markdown",
      "source": [
        "## 5 additional sentences"
      ],
      "metadata": {
        "id": "aZxGROv6zn_D"
      }
    },
    {
      "cell_type": "code",
      "source": [
        "get_reply(\"listen to some metal\")"
      ],
      "metadata": {
        "colab": {
          "base_uri": "https://localhost:8080/",
          "height": 36
        },
        "id": "619jk3HJzq_X",
        "outputId": "5d19d8e8-e6fb-4f3f-81e7-097ffc5b4831"
      },
      "execution_count": 42,
      "outputs": [
        {
          "output_type": "execute_result",
          "data": {
            "text/plain": [
              "'PlayMusic'"
            ],
            "application/vnd.google.colaboratory.intrinsic+json": {
              "type": "string"
            }
          },
          "metadata": {},
          "execution_count": 42
        }
      ]
    },
    {
      "cell_type": "code",
      "source": [
        "get_reply(\"will it be cloudy again today\")"
      ],
      "metadata": {
        "colab": {
          "base_uri": "https://localhost:8080/",
          "height": 36
        },
        "id": "VgdzYlnJz2gv",
        "outputId": "06c13ab1-dcaa-4ded-d107-5ceaa67d1c65"
      },
      "execution_count": 43,
      "outputs": [
        {
          "output_type": "execute_result",
          "data": {
            "text/plain": [
              "'GetWeather'"
            ],
            "application/vnd.google.colaboratory.intrinsic+json": {
              "type": "string"
            }
          },
          "metadata": {},
          "execution_count": 43
        }
      ]
    },
    {
      "cell_type": "code",
      "source": [
        "get_reply(\"Find me somebody to love\")"
      ],
      "metadata": {
        "colab": {
          "base_uri": "https://localhost:8080/",
          "height": 36
        },
        "id": "U0Ir00-tz8Id",
        "outputId": "bb345277-7373-46c3-cc97-0e5a409c6a83"
      },
      "execution_count": 44,
      "outputs": [
        {
          "output_type": "execute_result",
          "data": {
            "text/plain": [
              "'SearchCreativeWork'"
            ],
            "application/vnd.google.colaboratory.intrinsic+json": {
              "type": "string"
            }
          },
          "metadata": {},
          "execution_count": 44
        }
      ]
    },
    {
      "cell_type": "code",
      "source": [
        "get_reply(\"1984 gets a 10 from me\")"
      ],
      "metadata": {
        "colab": {
          "base_uri": "https://localhost:8080/",
          "height": 36
        },
        "id": "wO1gI1L00C2c",
        "outputId": "4f3f51a4-23ce-4199-a3e3-b8d595ed68f1"
      },
      "execution_count": 45,
      "outputs": [
        {
          "output_type": "execute_result",
          "data": {
            "text/plain": [
              "'BookRestaurant'"
            ],
            "application/vnd.google.colaboratory.intrinsic+json": {
              "type": "string"
            }
          },
          "metadata": {},
          "execution_count": 45
        }
      ]
    },
    {
      "cell_type": "code",
      "source": [
        "get_reply(\"the book phantom of the opera is excellent\")"
      ],
      "metadata": {
        "colab": {
          "base_uri": "https://localhost:8080/",
          "height": 36
        },
        "id": "Kn0Y6PAB0DN5",
        "outputId": "304f64ad-8d20-4686-bbac-a06aa678be5c"
      },
      "execution_count": 46,
      "outputs": [
        {
          "output_type": "execute_result",
          "data": {
            "text/plain": [
              "'SearchCreativeWork'"
            ],
            "application/vnd.google.colaboratory.intrinsic+json": {
              "type": "string"
            }
          },
          "metadata": {},
          "execution_count": 46
        }
      ]
    },
    {
      "cell_type": "markdown",
      "source": [
        "### The model performed well on the first couple sentences I tried. I tried to fool it a bit towards the end to see what the limitations would be.\n",
        "\n",
        "### How I envision this model or something similar being used in a chatbot is to perhaps find the category of reply that should be made to an input to the chatbot. I want to say that you could use it in some encoder/decoder architecture to generate a new response. Particularly in the encoder side."
      ],
      "metadata": {
        "id": "I1QYCGO90hY-"
      }
    }
  ],
  "metadata": {
    "accelerator": "GPU",
    "colab": {
      "provenance": []
    },
    "kernelspec": {
      "display_name": "Python 3",
      "language": "python",
      "name": "python3"
    },
    "language_info": {
      "codemirror_mode": {
        "name": "ipython",
        "version": 3
      },
      "file_extension": ".py",
      "mimetype": "text/x-python",
      "name": "python",
      "nbconvert_exporter": "python",
      "pygments_lexer": "ipython3",
      "version": "3.8.5"
    },
    "widgets": {
      "application/vnd.jupyter.widget-state+json": {
        "5c87bcaffac24196a2272745eb8f23a6": {
          "model_module": "@jupyter-widgets/controls",
          "model_name": "HBoxModel",
          "model_module_version": "1.5.0",
          "state": {
            "_dom_classes": [],
            "_model_module": "@jupyter-widgets/controls",
            "_model_module_version": "1.5.0",
            "_model_name": "HBoxModel",
            "_view_count": null,
            "_view_module": "@jupyter-widgets/controls",
            "_view_module_version": "1.5.0",
            "_view_name": "HBoxView",
            "box_style": "",
            "children": [
              "IPY_MODEL_9c2c637357974bd088a03ec1642d7b7d",
              "IPY_MODEL_31df551f31e84c8e9c0724c9cbbc3705",
              "IPY_MODEL_74e08887b5de45d3aa5896a8d0877604"
            ],
            "layout": "IPY_MODEL_c1f04c08e113470db7b3ebf83387c3d1"
          }
        },
        "9c2c637357974bd088a03ec1642d7b7d": {
          "model_module": "@jupyter-widgets/controls",
          "model_name": "HTMLModel",
          "model_module_version": "1.5.0",
          "state": {
            "_dom_classes": [],
            "_model_module": "@jupyter-widgets/controls",
            "_model_module_version": "1.5.0",
            "_model_name": "HTMLModel",
            "_view_count": null,
            "_view_module": "@jupyter-widgets/controls",
            "_view_module_version": "1.5.0",
            "_view_name": "HTMLView",
            "description": "",
            "description_tooltip": null,
            "layout": "IPY_MODEL_2776be88489d4ae38b1de1dea257412e",
            "placeholder": "​",
            "style": "IPY_MODEL_788655960fd948a28ce2da6164c4f9d0",
            "value": "100%"
          }
        },
        "31df551f31e84c8e9c0724c9cbbc3705": {
          "model_module": "@jupyter-widgets/controls",
          "model_name": "FloatProgressModel",
          "model_module_version": "1.5.0",
          "state": {
            "_dom_classes": [],
            "_model_module": "@jupyter-widgets/controls",
            "_model_module_version": "1.5.0",
            "_model_name": "FloatProgressModel",
            "_view_count": null,
            "_view_module": "@jupyter-widgets/controls",
            "_view_module_version": "1.5.0",
            "_view_name": "ProgressView",
            "bar_style": "success",
            "description": "",
            "description_tooltip": null,
            "layout": "IPY_MODEL_a3477618241e4f5e8347516a4e4930a0",
            "max": 3,
            "min": 0,
            "orientation": "horizontal",
            "style": "IPY_MODEL_99561c1e1e0a42a38bdd196c571d3f80",
            "value": 3
          }
        },
        "74e08887b5de45d3aa5896a8d0877604": {
          "model_module": "@jupyter-widgets/controls",
          "model_name": "HTMLModel",
          "model_module_version": "1.5.0",
          "state": {
            "_dom_classes": [],
            "_model_module": "@jupyter-widgets/controls",
            "_model_module_version": "1.5.0",
            "_model_name": "HTMLModel",
            "_view_count": null,
            "_view_module": "@jupyter-widgets/controls",
            "_view_module_version": "1.5.0",
            "_view_name": "HTMLView",
            "description": "",
            "description_tooltip": null,
            "layout": "IPY_MODEL_f6fa1c46b96e4af891eb93f4904529fc",
            "placeholder": "​",
            "style": "IPY_MODEL_601c32f97f4e4b33b6df46a15d53f545",
            "value": " 3/3 [12:07&lt;00:00, 242.37s/it]"
          }
        },
        "c1f04c08e113470db7b3ebf83387c3d1": {
          "model_module": "@jupyter-widgets/base",
          "model_name": "LayoutModel",
          "model_module_version": "1.2.0",
          "state": {
            "_model_module": "@jupyter-widgets/base",
            "_model_module_version": "1.2.0",
            "_model_name": "LayoutModel",
            "_view_count": null,
            "_view_module": "@jupyter-widgets/base",
            "_view_module_version": "1.2.0",
            "_view_name": "LayoutView",
            "align_content": null,
            "align_items": null,
            "align_self": null,
            "border": null,
            "bottom": null,
            "display": null,
            "flex": null,
            "flex_flow": null,
            "grid_area": null,
            "grid_auto_columns": null,
            "grid_auto_flow": null,
            "grid_auto_rows": null,
            "grid_column": null,
            "grid_gap": null,
            "grid_row": null,
            "grid_template_areas": null,
            "grid_template_columns": null,
            "grid_template_rows": null,
            "height": null,
            "justify_content": null,
            "justify_items": null,
            "left": null,
            "margin": null,
            "max_height": null,
            "max_width": null,
            "min_height": null,
            "min_width": null,
            "object_fit": null,
            "object_position": null,
            "order": null,
            "overflow": null,
            "overflow_x": null,
            "overflow_y": null,
            "padding": null,
            "right": null,
            "top": null,
            "visibility": null,
            "width": null
          }
        },
        "2776be88489d4ae38b1de1dea257412e": {
          "model_module": "@jupyter-widgets/base",
          "model_name": "LayoutModel",
          "model_module_version": "1.2.0",
          "state": {
            "_model_module": "@jupyter-widgets/base",
            "_model_module_version": "1.2.0",
            "_model_name": "LayoutModel",
            "_view_count": null,
            "_view_module": "@jupyter-widgets/base",
            "_view_module_version": "1.2.0",
            "_view_name": "LayoutView",
            "align_content": null,
            "align_items": null,
            "align_self": null,
            "border": null,
            "bottom": null,
            "display": null,
            "flex": null,
            "flex_flow": null,
            "grid_area": null,
            "grid_auto_columns": null,
            "grid_auto_flow": null,
            "grid_auto_rows": null,
            "grid_column": null,
            "grid_gap": null,
            "grid_row": null,
            "grid_template_areas": null,
            "grid_template_columns": null,
            "grid_template_rows": null,
            "height": null,
            "justify_content": null,
            "justify_items": null,
            "left": null,
            "margin": null,
            "max_height": null,
            "max_width": null,
            "min_height": null,
            "min_width": null,
            "object_fit": null,
            "object_position": null,
            "order": null,
            "overflow": null,
            "overflow_x": null,
            "overflow_y": null,
            "padding": null,
            "right": null,
            "top": null,
            "visibility": null,
            "width": null
          }
        },
        "788655960fd948a28ce2da6164c4f9d0": {
          "model_module": "@jupyter-widgets/controls",
          "model_name": "DescriptionStyleModel",
          "model_module_version": "1.5.0",
          "state": {
            "_model_module": "@jupyter-widgets/controls",
            "_model_module_version": "1.5.0",
            "_model_name": "DescriptionStyleModel",
            "_view_count": null,
            "_view_module": "@jupyter-widgets/base",
            "_view_module_version": "1.2.0",
            "_view_name": "StyleView",
            "description_width": ""
          }
        },
        "a3477618241e4f5e8347516a4e4930a0": {
          "model_module": "@jupyter-widgets/base",
          "model_name": "LayoutModel",
          "model_module_version": "1.2.0",
          "state": {
            "_model_module": "@jupyter-widgets/base",
            "_model_module_version": "1.2.0",
            "_model_name": "LayoutModel",
            "_view_count": null,
            "_view_module": "@jupyter-widgets/base",
            "_view_module_version": "1.2.0",
            "_view_name": "LayoutView",
            "align_content": null,
            "align_items": null,
            "align_self": null,
            "border": null,
            "bottom": null,
            "display": null,
            "flex": null,
            "flex_flow": null,
            "grid_area": null,
            "grid_auto_columns": null,
            "grid_auto_flow": null,
            "grid_auto_rows": null,
            "grid_column": null,
            "grid_gap": null,
            "grid_row": null,
            "grid_template_areas": null,
            "grid_template_columns": null,
            "grid_template_rows": null,
            "height": null,
            "justify_content": null,
            "justify_items": null,
            "left": null,
            "margin": null,
            "max_height": null,
            "max_width": null,
            "min_height": null,
            "min_width": null,
            "object_fit": null,
            "object_position": null,
            "order": null,
            "overflow": null,
            "overflow_x": null,
            "overflow_y": null,
            "padding": null,
            "right": null,
            "top": null,
            "visibility": null,
            "width": null
          }
        },
        "99561c1e1e0a42a38bdd196c571d3f80": {
          "model_module": "@jupyter-widgets/controls",
          "model_name": "ProgressStyleModel",
          "model_module_version": "1.5.0",
          "state": {
            "_model_module": "@jupyter-widgets/controls",
            "_model_module_version": "1.5.0",
            "_model_name": "ProgressStyleModel",
            "_view_count": null,
            "_view_module": "@jupyter-widgets/base",
            "_view_module_version": "1.2.0",
            "_view_name": "StyleView",
            "bar_color": null,
            "description_width": ""
          }
        },
        "f6fa1c46b96e4af891eb93f4904529fc": {
          "model_module": "@jupyter-widgets/base",
          "model_name": "LayoutModel",
          "model_module_version": "1.2.0",
          "state": {
            "_model_module": "@jupyter-widgets/base",
            "_model_module_version": "1.2.0",
            "_model_name": "LayoutModel",
            "_view_count": null,
            "_view_module": "@jupyter-widgets/base",
            "_view_module_version": "1.2.0",
            "_view_name": "LayoutView",
            "align_content": null,
            "align_items": null,
            "align_self": null,
            "border": null,
            "bottom": null,
            "display": null,
            "flex": null,
            "flex_flow": null,
            "grid_area": null,
            "grid_auto_columns": null,
            "grid_auto_flow": null,
            "grid_auto_rows": null,
            "grid_column": null,
            "grid_gap": null,
            "grid_row": null,
            "grid_template_areas": null,
            "grid_template_columns": null,
            "grid_template_rows": null,
            "height": null,
            "justify_content": null,
            "justify_items": null,
            "left": null,
            "margin": null,
            "max_height": null,
            "max_width": null,
            "min_height": null,
            "min_width": null,
            "object_fit": null,
            "object_position": null,
            "order": null,
            "overflow": null,
            "overflow_x": null,
            "overflow_y": null,
            "padding": null,
            "right": null,
            "top": null,
            "visibility": null,
            "width": null
          }
        },
        "601c32f97f4e4b33b6df46a15d53f545": {
          "model_module": "@jupyter-widgets/controls",
          "model_name": "DescriptionStyleModel",
          "model_module_version": "1.5.0",
          "state": {
            "_model_module": "@jupyter-widgets/controls",
            "_model_module_version": "1.5.0",
            "_model_name": "DescriptionStyleModel",
            "_view_count": null,
            "_view_module": "@jupyter-widgets/base",
            "_view_module_version": "1.2.0",
            "_view_name": "StyleView",
            "description_width": ""
          }
        }
      }
    }
  },
  "nbformat": 4,
  "nbformat_minor": 0
}