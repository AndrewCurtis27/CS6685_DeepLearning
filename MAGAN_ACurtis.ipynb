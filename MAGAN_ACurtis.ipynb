{
  "cells": [
    {
      "cell_type": "markdown",
      "id": "91bcf1ca",
      "metadata": {
        "id": "91bcf1ca"
      },
      "source": [
        "# MAGAN \n",
        "## Manifold alignment generative adversarial network"
      ]
    },
    {
      "cell_type": "markdown",
      "id": "2c1145a2",
      "metadata": {
        "id": "2c1145a2"
      },
      "source": [
        "In this exercise we will reproduce the following GAN architecture:"
      ]
    },
    {
      "cell_type": "markdown",
      "id": "a2a30401",
      "metadata": {
        "id": "a2a30401"
      },
      "source": [
        "<img src=\"magan_arch.png\" width=600 height=400 />"
      ]
    },
    {
      "cell_type": "markdown",
      "id": "ae6651a6",
      "metadata": {
        "id": "ae6651a6"
      },
      "source": [
        "See the [Original paper](http://proceedings.mlr.press/v80/amodio18a/amodio18a.pdf)\n",
        "\n"
      ]
    },
    {
      "cell_type": "code",
      "execution_count": 1,
      "id": "cbfa7283",
      "metadata": {
        "id": "cbfa7283"
      },
      "outputs": [],
      "source": [
        "import numpy as np\n",
        "import torchvision\n",
        "from torchvision import transforms\n",
        "import pandas as pd\n",
        "import sklearn\n",
        "import torch\n",
        "from PIL import Image, ImageFilter \n",
        "\n",
        "import matplotlib.pyplot as plt\n",
        "import torch.nn as nn\n",
        "from torch.utils.data import Dataset\n",
        "import seaborn as sns\n",
        "import pandas as pd\n"
      ]
    },
    {
      "cell_type": "code",
      "execution_count": 2,
      "id": "9f90d5d6",
      "metadata": {
        "id": "9f90d5d6"
      },
      "outputs": [],
      "source": [
        "'''\n",
        "*** Explain ***\n",
        "What does the following class do, and why we need to do this? \n",
        "\n",
        "This imports the dataset, standardizes the data, then rotates the images.\n",
        "The rotation is necessary because we want the GAN to learn the alignment manifold. Hence the rotation.\n",
        "'''\n",
        "\n",
        "class mnist_double():\n",
        "    def __init__(self, gausBl = 1, Rota = 30, resh_size = 14):\n",
        "        \n",
        "        ''' Import MNIST\n",
        "        '''\n",
        "        # If you don't download, specify the repo using the following line\n",
        "        # data_path = r\"...your repo for the data\" \n",
        "        Mnist = torchvision.datasets.MNIST(root = '/data', \n",
        "                                           transform = torchvision.transforms.ToTensor(),\n",
        "                                           download = True)\n",
        "        \n",
        "        data = Mnist.data.reshape(60000,784)\n",
        "        train_X = data\n",
        "        train_X = train_X/train_X.max()\n",
        "        true_labels = Mnist.targets\n",
        "        \n",
        "        indc = np.random.choice(range(data.shape[0]), 2000, replace = False)\n",
        "\n",
        "        X = train_X[indc,:]\n",
        "        true_labels = true_labels[indc]\n",
        "        \n",
        "        images_transform = torch.zeros(X.shape[0], 28, 28)\n",
        "        for ind in range(len(X)):\n",
        "            transform = transforms.ToPILImage()\n",
        "            pilimg = transform(X[ind].reshape(28,28))\n",
        "            im2 = pilimg.filter(ImageFilter.GaussianBlur(radius = gausBl))\n",
        "            im2 = im2.rotate(Rota)\n",
        "            transform = transforms.ToTensor()\n",
        "            images_transform[ind] = transform(im2).squeeze()\n",
        "        \n",
        "        images_transform = images_transform.reshape(X.shape[0], 28 * 28)\n",
        "           \n",
        "        \n",
        "        if resh_size < 28:\n",
        "            images_transform_gb = images_transform.clone()\n",
        "            images_transform = torch.zeros(X.shape[0], resh_size, resh_size)        \n",
        "            p = transforms.Resize((resh_size, resh_size))\n",
        "            transform = transforms.ToPILImage()\n",
        "            transform_t = transforms.ToTensor()\n",
        "            for ind in range(len(X)):\n",
        "                images_transform[ind] = transform_t(p(transform(images_transform_gb[ind].reshape(28,28)))).squeeze()\n",
        "            images_transform = images_transform.reshape(X.shape[0], resh_size * resh_size) \n",
        "            \n",
        "        ins = np.argsort(true_labels)\n",
        "        self.domain1 = X[ins]\n",
        "        self.domain2 = images_transform[ins]\n",
        "        self.type1 = true_labels[ins]\n",
        "        self.type2 = true_labels[ins]\n",
        "        self.correspondence = True\n",
        "    def get_data(self):\n",
        "        return self.domain1, self.domain2,  self.type1, self.type2  \n",
        "    def get_embeddings(self):\n",
        "        return self.domain1[:,:2], self.domain2[:,:2]"
      ]
    },
    {
      "cell_type": "code",
      "execution_count": 3,
      "id": "12698bed",
      "metadata": {
        "id": "12698bed",
        "colab": {
          "base_uri": "https://localhost:8080/",
          "height": 423,
          "referenced_widgets": [
            "df9e44d042d540a880ca6221a6f92638",
            "46c69e6a04c94c7c9f6f0e57f5f3b5b9",
            "ad7a6c8e7c9d42b6b81fbd562dbd04a0",
            "427e8a06ef8d4f23a40e40c67026e703",
            "4610a8ad62c44adab73356f97871fd09",
            "cdade3bb9c22489ea5f15e01a69b3dcc",
            "d671e9f94d5e4d21a021daf024224479",
            "709fcd0c4a45482caa29f0924fe4b187",
            "d5fa0e530afd4d5fbb3d3cdb1e06deac",
            "adcc15c50a684a35830d111df0bee8b9",
            "531352dcdcd04666ab1b88d9b1f4d4d4",
            "10b7675024fe4d5eafddc7d7cb8a7b30",
            "a54fda1dc7a5467d9f3cbb55b155ccee",
            "28ec74415bab4e0b86e547f24e0f8de9",
            "ee7e47c374b44e0b8348a192b9e4faa9",
            "029e25ee296a409cb1afc0d0f6333b17",
            "6213e51c9e524d299344df57ea1df071",
            "fc4e1dd39fb24cc4b49676dcf5ac5b33",
            "83f8f331f5a14331bf0c5e08e212800c",
            "34fdb2594bd944f5b606f06868622b3e",
            "8bcff50ddc324c71ba42fc5402e30db4",
            "6e3a8ce563ff4a55a521fbd3ac59e669",
            "dd15f6df20bf4a2693d7e846068d5060",
            "0a5ee82707ec4475b2f23f8f43a3de3e",
            "a728a2ce6f444f93a36a8ca16a06fac6",
            "fef5882ec4604f5b91a36fb5851181c7",
            "5f32b0034d094d3da2d71ff28a87dced",
            "a5374af1f84345acb927af1ff44226ef",
            "6022964b72ea463f853cf275f012e57b",
            "56db6227b52b45f2bbcaef57bfedaef2",
            "6c2eddfa7ef4400d91eb572fc81d4d60",
            "bec114b2a9a14008944b8a7e69a8f060",
            "df4b9cdcfb2948e29ad59cc42f807ec5",
            "487ab523739d4b88a3173527c341ec2b",
            "46a00f58daa44bf49bfcdd12f7d4435b",
            "0cd5394c84ba4db2bf56f6869d350d15",
            "c5ad18ca1ba04e82ae39186626378af7",
            "43add04523734c22a190e80fd91a1d93",
            "56c8e824f86243278818fd0cc2a26216",
            "a73c0219b0a34bbabcb4b40319f4fb8f",
            "33ca64905f9c40448821aa269a8d0981",
            "55afbb6213bb4dd298a67e20caefad5f",
            "6ac76ac086904c78ac0e5c85a8298dc0",
            "73157e5c22b84be0ab544169cd187d22"
          ]
        },
        "outputId": "d3586505-1de6-4d6d-fdf7-486b15982c7e"
      },
      "outputs": [
        {
          "output_type": "stream",
          "name": "stdout",
          "text": [
            "Downloading http://yann.lecun.com/exdb/mnist/train-images-idx3-ubyte.gz\n",
            "Downloading http://yann.lecun.com/exdb/mnist/train-images-idx3-ubyte.gz to /data/MNIST/raw/train-images-idx3-ubyte.gz\n"
          ]
        },
        {
          "output_type": "display_data",
          "data": {
            "text/plain": [
              "  0%|          | 0/9912422 [00:00<?, ?it/s]"
            ],
            "application/vnd.jupyter.widget-view+json": {
              "version_major": 2,
              "version_minor": 0,
              "model_id": "df9e44d042d540a880ca6221a6f92638"
            }
          },
          "metadata": {}
        },
        {
          "output_type": "stream",
          "name": "stdout",
          "text": [
            "Extracting /data/MNIST/raw/train-images-idx3-ubyte.gz to /data/MNIST/raw\n",
            "\n",
            "Downloading http://yann.lecun.com/exdb/mnist/train-labels-idx1-ubyte.gz\n",
            "Downloading http://yann.lecun.com/exdb/mnist/train-labels-idx1-ubyte.gz to /data/MNIST/raw/train-labels-idx1-ubyte.gz\n"
          ]
        },
        {
          "output_type": "display_data",
          "data": {
            "text/plain": [
              "  0%|          | 0/28881 [00:00<?, ?it/s]"
            ],
            "application/vnd.jupyter.widget-view+json": {
              "version_major": 2,
              "version_minor": 0,
              "model_id": "10b7675024fe4d5eafddc7d7cb8a7b30"
            }
          },
          "metadata": {}
        },
        {
          "output_type": "stream",
          "name": "stdout",
          "text": [
            "Extracting /data/MNIST/raw/train-labels-idx1-ubyte.gz to /data/MNIST/raw\n",
            "\n",
            "Downloading http://yann.lecun.com/exdb/mnist/t10k-images-idx3-ubyte.gz\n",
            "Downloading http://yann.lecun.com/exdb/mnist/t10k-images-idx3-ubyte.gz to /data/MNIST/raw/t10k-images-idx3-ubyte.gz\n"
          ]
        },
        {
          "output_type": "display_data",
          "data": {
            "text/plain": [
              "  0%|          | 0/1648877 [00:00<?, ?it/s]"
            ],
            "application/vnd.jupyter.widget-view+json": {
              "version_major": 2,
              "version_minor": 0,
              "model_id": "dd15f6df20bf4a2693d7e846068d5060"
            }
          },
          "metadata": {}
        },
        {
          "output_type": "stream",
          "name": "stdout",
          "text": [
            "Extracting /data/MNIST/raw/t10k-images-idx3-ubyte.gz to /data/MNIST/raw\n",
            "\n",
            "Downloading http://yann.lecun.com/exdb/mnist/t10k-labels-idx1-ubyte.gz\n",
            "Downloading http://yann.lecun.com/exdb/mnist/t10k-labels-idx1-ubyte.gz to /data/MNIST/raw/t10k-labels-idx1-ubyte.gz\n"
          ]
        },
        {
          "output_type": "display_data",
          "data": {
            "text/plain": [
              "  0%|          | 0/4542 [00:00<?, ?it/s]"
            ],
            "application/vnd.jupyter.widget-view+json": {
              "version_major": 2,
              "version_minor": 0,
              "model_id": "487ab523739d4b88a3173527c341ec2b"
            }
          },
          "metadata": {}
        },
        {
          "output_type": "stream",
          "name": "stdout",
          "text": [
            "Extracting /data/MNIST/raw/t10k-labels-idx1-ubyte.gz to /data/MNIST/raw\n",
            "\n"
          ]
        }
      ],
      "source": [
        "domain1, domain2, labels1, labels2 = mnist_double(gausBl = 1).get_data()"
      ]
    },
    {
      "cell_type": "code",
      "execution_count": 4,
      "id": "81ca808d",
      "metadata": {
        "colab": {
          "base_uri": "https://localhost:8080/",
          "height": 667
        },
        "id": "81ca808d",
        "outputId": "6ed4f4f8-487c-4ced-cddd-b55e76d03053"
      },
      "outputs": [
        {
          "output_type": "display_data",
          "data": {
            "text/plain": [
              "<Figure size 720x360 with 10 Axes>"
            ],
            "image/png": "[encoded data removed]"
          },
          "metadata": {
            "needs_background": "light"
          }
        },
        {
          "output_type": "display_data",
          "data": {
            "text/plain": [
              "<Figure size 720x360 with 10 Axes>"
            ],
            "image/png": "[encoded data removed]"
          },
          "metadata": {
            "needs_background": "light"
          }
        }
      ],
      "source": [
        "indices_plot = np.random.choice(range(domain1.shape[0]), 10, replace = False)\n",
        "\n",
        "fig, ax = plt.subplots(2, 5, figsize = (10, 5))  \n",
        "ax = ax.flatten()\n",
        "for i in range(len(indices_plot)):\n",
        "    ax[i].imshow(domain1[indices_plot[i]].reshape(28,28))\n",
        "fig.suptitle(\"Original Images (domain1)\", size=20)\n",
        "plt.show()\n",
        "\n",
        "\n",
        "fig, ax = plt.subplots(2, 5, figsize = (10, 5))  \n",
        "ax = ax.flatten()\n",
        "for i in range(len(indices_plot)):\n",
        "    ax[i].imshow(domain2[indices_plot[i]].reshape(14, 14))\n",
        "fig.suptitle(\"Transformed Images (domain2)\", size=20)\n",
        "plt.show()\n"
      ]
    },
    {
      "cell_type": "code",
      "execution_count": 6,
      "id": "7e968ce8",
      "metadata": {
        "id": "7e968ce8"
      },
      "outputs": [],
      "source": [
        "import torch.nn as nn\n",
        "import torch.nn.functional as F\n",
        "import torch\n",
        "import pdb\n",
        "import matplotlib.pyplot as plt\n",
        "from sklearn.neighbors import NearestNeighbors\n",
        "import numpy as np\n",
        "\n",
        "'''\n",
        "*** Explain ***\n",
        "Looking at the following class, explain what is a generator?\n",
        "\n",
        "The generator is a feed forward network that takes some input and produces some output.\n",
        "In this GAN architecture it takes the dataset and outputs the target dataset.\n",
        "This is equivalent to a mapping.\n",
        "'''\n",
        "\n",
        "class MAGAN_generator(nn.Module):\n",
        "    def __init__(self, input_dim, hidden_dims, output_dim):\n",
        "        super().__init__()\n",
        "        # pdb.set_trace()\n",
        "                \n",
        "        full_list = list(hidden_dims) \n",
        "        # Create generator \n",
        "        self.generator = nn.Sequential()\n",
        "        self.generator.add_module(f'gen_ini', nn.Linear(input_dim, full_list[0]))\n",
        "        # self.generator.add_module(f'batchn_', nn.BatchNorm1d(full_list[0]))\n",
        "        self.generator.add_module(f'act_',nn.LeakyReLU(negative_slope=0.2))\n",
        "        for i in range(len(full_list)-1):\n",
        "            self.generator.add_module(f'gen_{i}' ,nn.Linear(full_list[i], full_list[i+1]))\n",
        "            # self.generator.add_module(f'batchn_{i}', nn.BatchNorm1d(full_list[i+1]))\n",
        "            self.generator.add_module(f'act_{i}',nn.LeakyReLU(negative_slope=0.2))\n",
        "        \n",
        "        self.generator.add_module(f'final_gen', nn.Linear(full_list[i+1], output_dim))\n",
        "        self.generator.add_module('final_act', nn.Sigmoid())\n",
        "        \n",
        "    def forward(self, x1):\n",
        "        out = self.generator(x1)\n",
        "        return out\n",
        "\n",
        "'''\n",
        "*** Explain ***\n",
        "Looking at the following class,explain what is a discriminator? \n",
        "Why the dimension of the output of the final layer is equal to 1? \n",
        "\n",
        "The discriminator takes true samples and mapped ones and tries to separate the two.\n",
        "The dimension is equal to one because for the samples it is just trying to decide if each sample was a true or mapped one.\n",
        "'''\n",
        "\n",
        "class MAGAN_discriminator(nn.Module):\n",
        "    def __init__(self, input_dim, hidden_dims):\n",
        "        super().__init__()\n",
        "        # pdb.set_trace()\n",
        "\n",
        "        full_list = list(hidden_dims) \n",
        "        \n",
        "        # Create discriminator \n",
        "        self.discriminator = nn.Sequential()\n",
        "        self.discriminator.add_module('gen_ini', nn.Linear(input_dim, full_list[0]))\n",
        "        # self.discriminator.add_module('batchn_ini', nn.BatchNorm1d(full_list[0]))\n",
        "        self.discriminator.add_module('act_ini',nn.LeakyReLU(negative_slope=0.2))\n",
        "        for i in range(len(full_list)-1):\n",
        "            self.discriminator.add_module(f'gen_{i}' ,nn.Linear(full_list[i], full_list[i+1]))\n",
        "            # self.discriminator.add_module(f'batchn_{i}', nn.BatchNorm1d(full_list[i+1]))\n",
        "            self.discriminator.add_module(f'act_{i}',nn.LeakyReLU(negative_slope=0.2))\n",
        "        \n",
        "        self.discriminator.add_module('final_gen', nn.Linear(full_list[i+1], 1))\n",
        "        # self.discriminator.add_module('final_act', nn.Sigmoid())\n",
        "        \n",
        "    def forward(self, x1):\n",
        "        out = self.discriminator(x1)\n",
        "        return out    \n",
        "\n",
        "class MAGAN_dis(nn.Module):\n",
        "    def __init__(self, input_dim1, input_dim2, hidden_dims):\n",
        "        super().__init__()     \n",
        "        \n",
        "        '''\n",
        "        *** Explain *** what are D1 and D2?\n",
        "        Discriminator 1 and Discriminator 2 are for handling rotated and upright images. \n",
        "        You want the network to learn the alignment between the two.\n",
        "        '''\n",
        "                                                                                                \n",
        "        self.D1 = MAGAN_discriminator(input_dim1, hidden_dims)\n",
        "        self.D2 = MAGAN_discriminator(input_dim2, hidden_dims)\n",
        "        \n",
        "    def forward(self, X1, X2, X21, X12):\n",
        "\n",
        "        Dx1 = self.D1(X1)\n",
        "        Dx21 = self.D1(X21)\n",
        "        Dx2 = self.D2(X2)\n",
        "        Dx12 = self.D2(X12) \n",
        "        return Dx1, Dx21, Dx2, Dx12\n",
        "\n",
        "\n",
        "class MAGAN_gen(nn.Module):\n",
        "    def __init__(self, input_dim1, input_dim2, hidden_dims):\n",
        "        super().__init__()     \n",
        "        \n",
        "        '''\n",
        "        *** Explain *** what are G12 and G21?\n",
        "        G12 and G21 are two generators for creating the mapped new data sets that are fed forward to the discriminator for when it later calculates the losses.\n",
        "        \n",
        "        '''\n",
        "        \n",
        "        self.G12 = MAGAN_generator(input_dim1, hidden_dims, input_dim2)\n",
        "        self.G21 = MAGAN_generator(input_dim2, hidden_dims, input_dim1)\n",
        "\n",
        "    def forward(self, X1, X2, s1, s2):\n",
        "        '''\n",
        "        *** Explain ***\n",
        "        What does this function forward() do?\n",
        "\n",
        "        This function takes the samples and produces the mapped datasets using the generators.\n",
        "        '''\n",
        "        \n",
        "        X12 = self.G12(X1)\n",
        "        X121 = self.G21(X12)\n",
        "        \n",
        "        X21 = self.G21(X2)\n",
        "        X212 = self.G12(X21)\n",
        "        \n",
        "        S12 = self.G12(s1)\n",
        "        S21 = self.G21(s2)\n",
        "        \n",
        "        return X12, X121, X21, X212, S12, S21 \n",
        "\n",
        "                                                                                \n",
        "class ConcatDataset(torch.utils.data.Dataset):\n",
        "    def __init__(self, *datasets):\n",
        "        self.datasets = datasets\n",
        "\n",
        "    def __getitem__(self, i):\n",
        "        return tuple(d[i] for d in self.datasets)\n",
        "\n",
        "    def __len__(self):\n",
        "        return min(len(d) for d in self.datasets)\n",
        "\n",
        "\n",
        "\n",
        "class MAGAN():\n",
        "    def __init__(self, lam = 1000, \n",
        "                 epochs=100, \n",
        "                 hidden_dims = [400, 200, 100],\n",
        "                 torch_module = None,\n",
        "                 optimizer = None,\n",
        "                 lr = 1e-3,\n",
        "                 batch_size = 128,\n",
        "                 weight_decay = 0):\n",
        "        \n",
        "        self.torch_module = torch_module\n",
        "        self.device = torch.device(\"cuda:0\" if torch.cuda.is_available() else \"cpu\")\n",
        "        self.hidden_dims = hidden_dims\n",
        "        self.lr = lr\n",
        "        self.optimizer = optimizer\n",
        "        self.weight_decay = weight_decay\n",
        "        self.batch_size = batch_size\n",
        "        self.epochs = epochs\n",
        "        self.dis_loss = nn.BCELoss(reduction = 'mean')\n",
        "        self.dis_loss = nn.BCEWithLogitsLoss()\n",
        "        self.gen_loss = nn.MSELoss(reduction = 'mean')\n",
        "        self.lam =  lam\n",
        "        \n",
        "    def fit(self, X1, X2, s1 = None, s2 = None):\n",
        "        \n",
        "        input_dim1 = X1.shape[1]\n",
        "        input_dim2 = X2.shape[1]\n",
        "        if self.torch_module is None:\n",
        "            self.torch_module_gen = MAGAN_gen(input_dim1 = input_dim1,\n",
        "                                              input_dim2 = input_dim2,\n",
        "                                              hidden_dims = self.hidden_dims)\n",
        "            self.torch_module_dis = MAGAN_dis(input_dim1 = input_dim1,\n",
        "                                              input_dim2 = input_dim2,\n",
        "                                              hidden_dims = self.hidden_dims)\n",
        "            # self.torch_module_gen.apply(weights_init_uniform)\n",
        "            # self.torch_module_dis.apply(weights_init_uniform)\n",
        "        \n",
        "        if self.optimizer is None:\n",
        "            self.optimizer_gen = torch.optim.Adam(self.torch_module_gen.parameters(),\n",
        "                                              lr=self.lr,\n",
        "                                              weight_decay=self.weight_decay)\n",
        "            self.optimizer_dis = torch.optim.Adam(self.torch_module_dis.parameters(),\n",
        "                                                  lr=self.lr,\n",
        "                                                  weight_decay=self.weight_decay)\n",
        "            \n",
        "            \n",
        "        self.X1 = torch.tensor(X1).float() \n",
        "        self.X2 = torch.tensor(X2).float() \n",
        "        s1 = torch.tensor(s1).float().to(self.device)\n",
        "        s2 = torch.tensor(s2).float().to(self.device) \n",
        "        self.torch_module_gen.to(self.device)\n",
        "        self.torch_module_dis.to(self.device)\n",
        "        self.loader = self.get_loader(self.X1, self.X2)\n",
        "        self.noiseb = 0\n",
        "        self.d1_l = [0]\n",
        "        self.d2_l = [0]\n",
        "        self.g1_l = [0]\n",
        "        self.g2_l = [0]\n",
        "        self.train_g = True\n",
        "        \n",
        "        for epoch in range(self.epochs):\n",
        "            if epoch % 50 == 1:\n",
        "                print(f'Epoch {epoch} of self.epochs')\n",
        "                print(f\"{self.loss}\")\n",
        "                plt.plot(self.d1_l + self.d2_l, c = \"blue\")\n",
        "                # plt.plot(self.d2_l, c = \"green\")\n",
        "                plt.plot(self.g2_l + self.g1_l, c = \"black\")\n",
        "                # plt.plot(self.g1_l, c = \"red\")\n",
        "                plt.show()\n",
        "                self.noiseb = np.clip(self.noiseb * 0.5, 0, 1)\n",
        "            \n",
        "            if epoch > 10:\n",
        "                if self.d1_l[-1] + self.d2_l[-1] > 1:\n",
        "                    self.train_g = True\n",
        "                else:\n",
        "                    self.train_g = True\n",
        "            for batch in self.loader:\n",
        "                                          \n",
        "                X1, X2 = batch\n",
        "                X1 = X1.to(self.device)\n",
        "                X2 = X2.to(self.device)\n",
        "                # discriminator loss\n",
        "                self.train_generators(X1, X2, s1, s2, self.train_g)\n",
        "                self.train_discriminators(X1, X2, s1, s2) \n",
        "                self.loss = self.g1_l[-1] + self.g2_l[-1] + self.d1_l[-1] + self.d2_l[-1]\n",
        "                \n",
        "\n",
        "        \n",
        "        X12, X121, X21, X212, S12, S21 = self.torch_module_gen(self.X1.to(self.device), self.X2.to(self.device), s1, s2)\n",
        "        nbrs = NearestNeighbors(n_neighbors=X12.shape[0], algorithm='ball_tree').fit(X12.detach().cpu())\n",
        "        _, indices = nbrs.kneighbors(self.X2)\n",
        "        a2 = indices[:,0]\n",
        "        \n",
        "        N1 = self.X1.shape[0]\n",
        "        N2 = self.X2.shape[0]\n",
        "        T = np.zeros((N1, N2))\n",
        "        T[range(N1), a2] = 1  \n",
        "        \n",
        "        return T\n",
        "    \n",
        "    def train_discriminators(self, X1, X2, s1, s2):\n",
        "        self.optimizer_dis.zero_grad()\n",
        "        X12, X121, X21, X212, S12, S21 = self.torch_module_gen(X1, X2, s1, s2)\n",
        "        Dx1, Dx21, Dx2, Dx12 = self.torch_module_dis(X1, X2, X21, X12)\n",
        "        \n",
        "        '''\n",
        "        *** Explain ***\n",
        "        What does this function train_discriminators() do?\n",
        "        \n",
        "        This function uses the mapped datasets from the generators and feeds the discriminators the true and mapped samples for it to learn\n",
        "        the losses are then calculated for backward propogation\n",
        "        '''\n",
        "        \n",
        "        lossD1 = self.dis_loss(Dx1, torch.bernoulli(torch.ones_like(Dx1)*(1-self.noiseb)))\n",
        "        lossD2 = self.dis_loss(Dx2, torch.bernoulli(torch.ones_like(Dx2)*(1-self.noiseb)))\n",
        "        lossD1_f = self.dis_loss(Dx12, torch.bernoulli(torch.ones_like(Dx1)*self.noiseb))\n",
        "        lossD2_f = self.dis_loss(Dx21, torch.bernoulli(torch.ones_like(Dx1)*self.noiseb))\n",
        "                                \n",
        "        # lossD1 = self.dis_loss(Dx1, torch.ones_like(Dx1))\n",
        "        # lossD2 = self.dis_loss(Dx2, torch.ones_like(Dx2))\n",
        "        \n",
        "        # lossD1_f = self.dis_loss(Dx12, torch.zeros_like(Dx12))\n",
        "        # lossD2_f = self.dis_loss(Dx21, torch.zeros_like(Dx21))         \n",
        "        # lossD1 = F.binary_cross_entropy_with_logits(Dx1, torch.ones_like(Dx1))\n",
        "        # lossD2 = F.binary_cross_entropy_with_logits(Dx2, torch.ones_like(Dx2))       \n",
        "        # lossD1_f = F.binary_cross_entropy_with_logits(Dx12, torch.zeros_like(Dx12))\n",
        "        # lossD2_f = F.binary_cross_entropy_with_logits(Dx21, torch.zeros_like(Dx21))  \n",
        "        LossD =  lossD1 + lossD2 + lossD1_f + lossD2_f\n",
        "        LossD.backward()             \n",
        "        self.d1_l.append(lossD1.item() + lossD1_f.item())\n",
        "        self.d2_l.append(lossD2.item() + lossD2_f.item())\n",
        "        self.optimizer_dis.step()\n",
        "        \n",
        "    def train_generators(self, X1, X2, s1, s2, train):\n",
        "        self.optimizer_gen.zero_grad()\n",
        "        X12, X121, X21, X212, S12, S21 = self.torch_module_gen(X1, X2, s1, s2)\n",
        "        Dx1, Dx21, Dx2, Dx12 = self.torch_module_dis(X1, X2, X21, X12)\n",
        "        \n",
        "                \n",
        "        '''\n",
        "        *** Explain ***\n",
        "        What does this function train_generators() do?\n",
        "        \n",
        "        This train genereators function takes the samples and attmepts to produce the mapped datasets.\n",
        "        They are trained by calculating and backpropogating the correspondence and reconstruction losses.\n",
        "        '''\n",
        "        \n",
        "        lossG12 = self.dis_loss(Dx12, torch.ones_like(Dx12))\n",
        "        lossG21 = self.dis_loss(Dx21, torch.ones_like(Dx21))\n",
        "        \n",
        "        lossG12_r = self.gen_loss(X1, X121)\n",
        "        lossG21_r = self.gen_loss(X2, X212)\n",
        "        \n",
        "        self.g1_l.append(lossG12.item() + lossG12_r.item())\n",
        "        self.g2_l.append(lossG21.item() + lossG21_r.item())\n",
        "        # Correspondence Loss\n",
        "        C12 = self.gen_loss(s2, S12)\n",
        "        C21 = self.gen_loss(s1, S21)\n",
        "        \n",
        "        LossG =  lossG12 + lossG21 + lossG12_r + lossG21_r + self.lam*(C12 + C21)\n",
        "        LossG.backward()  \n",
        "        if train:\n",
        "            self.optimizer_gen.step()\n",
        "                       \n",
        "    \n",
        "    def get_loader(self, X1, X2):\n",
        "        loader1 = torch.utils.data.DataLoader(ConcatDataset(X1, X2), batch_size=self.batch_size, shuffle=False) \n",
        "        return  loader1  \n",
        "    \n",
        "    def transform(self, x1, x2):\n",
        "        X12, X121, X21, X212, s1, s2 = self.torch_module_gen(x1.to(self.device), x2.to(self.device), x1.to(self.device), x2.to(self.device))\n",
        "        return X12.detach().cpu().numpy(), X21.detach().cpu().numpy()\n",
        "\n",
        "    \n",
        "\n"
      ]
    },
    {
      "cell_type": "code",
      "execution_count": 7,
      "id": "54ad446f",
      "metadata": {
        "id": "54ad446f"
      },
      "outputs": [],
      "source": [
        "# Create random correspondences between both domains\n",
        "indices_correspondence = np.random.choice(range(domain1.shape[0]), 100, replace = False)"
      ]
    },
    {
      "cell_type": "code",
      "execution_count": 8,
      "id": "fef4e523",
      "metadata": {
        "id": "fef4e523"
      },
      "outputs": [],
      "source": [
        "model = MAGAN()"
      ]
    },
    {
      "cell_type": "code",
      "execution_count": 9,
      "id": "272ac161",
      "metadata": {
        "colab": {
          "base_uri": "https://localhost:8080/",
          "height": 863
        },
        "id": "272ac161",
        "outputId": "ae3690e2-6867-41c7-e5b4-1c594ff22e94"
      },
      "outputs": [
        {
          "output_type": "stream",
          "name": "stderr",
          "text": [
            "<ipython-input-6-e77997e2fbbd>:187: UserWarning: To copy construct from a tensor, it is recommended to use sourceTensor.clone().detach() or sourceTensor.clone().detach().requires_grad_(True), rather than torch.tensor(sourceTensor).\n",
            "  self.X1 = torch.tensor(X1).float()\n",
            "<ipython-input-6-e77997e2fbbd>:188: UserWarning: To copy construct from a tensor, it is recommended to use sourceTensor.clone().detach() or sourceTensor.clone().detach().requires_grad_(True), rather than torch.tensor(sourceTensor).\n",
            "  self.X2 = torch.tensor(X2).float()\n",
            "<ipython-input-6-e77997e2fbbd>:189: UserWarning: To copy construct from a tensor, it is recommended to use sourceTensor.clone().detach() or sourceTensor.clone().detach().requires_grad_(True), rather than torch.tensor(sourceTensor).\n",
            "  s1 = torch.tensor(s1).float().to(self.device)\n",
            "<ipython-input-6-e77997e2fbbd>:190: UserWarning: To copy construct from a tensor, it is recommended to use sourceTensor.clone().detach() or sourceTensor.clone().detach().requires_grad_(True), rather than torch.tensor(sourceTensor).\n",
            "  s2 = torch.tensor(s2).float().to(self.device)\n"
          ]
        },
        {
          "output_type": "stream",
          "name": "stdout",
          "text": [
            "Epoch 1 of self.epochs\n",
            "8.493791695684195\n"
          ]
        },
        {
          "output_type": "display_data",
          "data": {
            "text/plain": [
              "<Figure size 432x288 with 1 Axes>"
            ],
            "image/png": "[encoded data removed]"
          },
          "metadata": {
            "needs_background": "light"
          }
        },
        {
          "output_type": "stream",
          "name": "stdout",
          "text": [
            "Epoch 51 of self.epochs\n",
            "4.8033972745761275\n"
          ]
        },
        {
          "output_type": "display_data",
          "data": {
            "text/plain": [
              "<Figure size 432x288 with 1 Axes>"
            ],
            "image/png": "[encoded data removed]"
          },
          "metadata": {
            "needs_background": "light"
          }
        },
        {
          "output_type": "execute_result",
          "data": {
            "text/plain": [
              "array([[0., 0., 0., ..., 0., 0., 0.],\n",
              "       [0., 0., 0., ..., 0., 0., 0.],\n",
              "       [0., 0., 1., ..., 0., 0., 0.],\n",
              "       ...,\n",
              "       [0., 0., 0., ..., 0., 0., 0.],\n",
              "       [0., 0., 0., ..., 0., 1., 0.],\n",
              "       [0., 0., 0., ..., 0., 0., 0.]])"
            ]
          },
          "metadata": {},
          "execution_count": 9
        }
      ],
      "source": [
        "model.fit(domain1, domain2, domain1[indices_correspondence], domain2[indices_correspondence])"
      ]
    },
    {
      "cell_type": "code",
      "execution_count": null,
      "id": "eb1943d1",
      "metadata": {
        "id": "eb1943d1",
        "outputId": "dd56f33e-b57b-4467-d089-c9ad80794012"
      },
      "outputs": [
        {
          "name": "stderr",
          "output_type": "stream",
          "text": [
            "<ipython-input-6-77cf7128c955>:152: UserWarning: To copy construct from a tensor, it is recommended to use sourceTensor.clone().detach() or sourceTensor.clone().detach().requires_grad_(True), rather than torch.tensor(sourceTensor).\n",
            "  self.X1 = torch.tensor(X1).float()\n",
            "<ipython-input-6-77cf7128c955>:153: UserWarning: To copy construct from a tensor, it is recommended to use sourceTensor.clone().detach() or sourceTensor.clone().detach().requires_grad_(True), rather than torch.tensor(sourceTensor).\n",
            "  self.X2 = torch.tensor(X2).float()\n",
            "<ipython-input-6-77cf7128c955>:154: UserWarning: To copy construct from a tensor, it is recommended to use sourceTensor.clone().detach() or sourceTensor.clone().detach().requires_grad_(True), rather than torch.tensor(sourceTensor).\n",
            "  s1 = torch.tensor(s1).float().to(self.device)\n",
            "<ipython-input-6-77cf7128c955>:155: UserWarning: To copy construct from a tensor, it is recommended to use sourceTensor.clone().detach() or sourceTensor.clone().detach().requires_grad_(True), rather than torch.tensor(sourceTensor).\n",
            "  s2 = torch.tensor(s2).float().to(self.device)\n"
          ]
        },
        {
          "name": "stdout",
          "output_type": "stream",
          "text": [
            "Epoch 1 of self.epochs\n",
            "7.243426629342139\n"
          ]
        },
        {
          "data": {
            "image/png": "[encoded data removed]",
            "text/plain": [
              "<Figure size 432x288 with 1 Axes>"
            ]
          },
          "metadata": {
            "needs_background": "light"
          },
          "output_type": "display_data"
        },
        {
          "name": "stdout",
          "output_type": "stream",
          "text": [
            "Epoch 51 of self.epochs\n",
            "3.972799639683217\n"
          ]
        },
        {
          "data": {
            "image/png": "[encoded data removed]",
            "text/plain": [
              "<Figure size 432x288 with 1 Axes>"
            ]
          },
          "metadata": {
            "needs_background": "light"
          },
          "output_type": "display_data"
        },
        {
          "data": {
            "text/plain": [
              "array([[1., 0., 0., ..., 0., 0., 0.],\n",
              "       [0., 1., 0., ..., 0., 0., 0.],\n",
              "       [0., 0., 1., ..., 0., 0., 0.],\n",
              "       ...,\n",
              "       [0., 0., 0., ..., 1., 0., 0.],\n",
              "       [0., 0., 0., ..., 0., 0., 0.],\n",
              "       [0., 0., 0., ..., 0., 0., 0.]])"
            ]
          },
          "execution_count": 9,
          "metadata": {},
          "output_type": "execute_result"
        }
      ],
      "source": []
    },
    {
      "cell_type": "code",
      "execution_count": 10,
      "id": "7218bb5e",
      "metadata": {
        "id": "7218bb5e"
      },
      "outputs": [],
      "source": [
        "x2g, x1g = model.transform(domain1, domain2)"
      ]
    },
    {
      "cell_type": "code",
      "execution_count": 11,
      "id": "e4bf9c3c",
      "metadata": {
        "id": "e4bf9c3c",
        "outputId": "0587954a-4188-411c-abc2-38cd8a78f5f6",
        "colab": {
          "base_uri": "https://localhost:8080/",
          "height": 667
        }
      },
      "outputs": [
        {
          "output_type": "display_data",
          "data": {
            "text/plain": [
              "<Figure size 720x360 with 10 Axes>"
            ],
            "image/png": "[encoded data removed]"
          },
          "metadata": {
            "needs_background": "light"
          }
        },
        {
          "output_type": "display_data",
          "data": {
            "text/plain": [
              "<Figure size 720x360 with 10 Axes>"
            ],
            "image/png": "[encoded data removed]"
          },
          "metadata": {
            "needs_background": "light"
          }
        }
      ],
      "source": [
        "fig, ax = plt.subplots(2, 5, figsize = (10, 5))  \n",
        "ax = ax.flatten()\n",
        "for i in range(len(indices_plot)):\n",
        "    ax[i].imshow(domain1[indices_plot[i]].reshape(28,28))\n",
        "fig.suptitle(\"Original Images (domain1)\", size=20)\n",
        "plt.show()\n",
        "\n",
        "\n",
        "fig, ax = plt.subplots(2, 5, figsize = (10, 5))  \n",
        "ax = ax.flatten()\n",
        "for i in range(len(indices_plot)):\n",
        "    ax[i].imshow(x1g[indices_plot[i]].reshape(28, 28))\n",
        "fig.suptitle(\"Generated Images (domain2)\", size=20)\n",
        "plt.show()"
      ]
    },
    {
      "cell_type": "code",
      "execution_count": 12,
      "id": "6a2e4e64",
      "metadata": {
        "id": "6a2e4e64",
        "outputId": "31f4097b-e0a9-433d-dbec-5414a19822f0",
        "colab": {
          "base_uri": "https://localhost:8080/",
          "height": 667
        }
      },
      "outputs": [
        {
          "output_type": "display_data",
          "data": {
            "text/plain": [
              "<Figure size 720x360 with 10 Axes>"
            ],
            "image/png": "[encoded data removed]"
          },
          "metadata": {
            "needs_background": "light"
          }
        },
        {
          "output_type": "display_data",
          "data": {
            "text/plain": [
              "<Figure size 720x360 with 10 Axes>"
            ],
            "image/png": "[encoded data removed]"
          },
          "metadata": {
            "needs_background": "light"
          }
        }
      ],
      "source": [
        "fig, ax = plt.subplots(2, 5, figsize = (10, 5))  \n",
        "ax = ax.flatten()\n",
        "for i in range(len(indices_plot)):\n",
        "    ax[i].imshow(domain2[indices_plot[i]].reshape(14, 14))\n",
        "fig.suptitle(\"Original Images (domain2)\", size=20)\n",
        "plt.show()\n",
        "\n",
        "\n",
        "fig, ax = plt.subplots(2, 5, figsize = (10, 5))  \n",
        "ax = ax.flatten()\n",
        "for i in range(len(indices_plot)):\n",
        "    ax[i].imshow(x2g[indices_plot[i]].reshape(14, 14))\n",
        "fig.suptitle(\"Generated (domain2)\", size=20)\n",
        "plt.show()"
      ]
    },
    {
      "cell_type": "code",
      "execution_count": null,
      "id": "e053ee6e",
      "metadata": {
        "id": "e053ee6e"
      },
      "outputs": [],
      "source": []
    }
  ],
  "metadata": {
    "kernelspec": {
      "display_name": "Python 3 (ipykernel)",
      "language": "python",
      "name": "python3"
    },
    "language_info": {
      "codemirror_mode": {
        "name": "ipython",
        "version": 3
      },
      "file_extension": ".py",
      "mimetype": "text/x-python",
      "name": "python",
      "nbconvert_exporter": "python",
      "pygments_lexer": "ipython3",
      "version": "3.9.7"
    },
    "colab": {
      "provenance": [],
      "toc_visible": true
    },
    "widgets": {
      "application/vnd.jupyter.widget-state+json": {
        "df9e44d042d540a880ca6221a6f92638": {
          "model_module": "@jupyter-widgets/controls",
          "model_name": "HBoxModel",
          "model_module_version": "1.5.0",
          "state": {
            "_dom_classes": [],
            "_model_module": "@jupyter-widgets/controls",
            "_model_module_version": "1.5.0",
            "_model_name": "HBoxModel",
            "_view_count": null,
            "_view_module": "@jupyter-widgets/controls",
            "_view_module_version": "1.5.0",
            "_view_name": "HBoxView",
            "box_style": "",
            "children": [
              "IPY_MODEL_46c69e6a04c94c7c9f6f0e57f5f3b5b9",
              "IPY_MODEL_ad7a6c8e7c9d42b6b81fbd562dbd04a0",
              "IPY_MODEL_427e8a06ef8d4f23a40e40c67026e703"
            ],
            "layout": "IPY_MODEL_4610a8ad62c44adab73356f97871fd09"
          }
        },
        "46c69e6a04c94c7c9f6f0e57f5f3b5b9": {
          "model_module": "@jupyter-widgets/controls",
          "model_name": "HTMLModel",
          "model_module_version": "1.5.0",
          "state": {
            "_dom_classes": [],
            "_model_module": "@jupyter-widgets/controls",
            "_model_module_version": "1.5.0",
            "_model_name": "HTMLModel",
            "_view_count": null,
            "_view_module": "@jupyter-widgets/controls",
            "_view_module_version": "1.5.0",
            "_view_name": "HTMLView",
            "description": "",
            "description_tooltip": null,
            "layout": "IPY_MODEL_cdade3bb9c22489ea5f15e01a69b3dcc",
            "placeholder": "​",
            "style": "IPY_MODEL_d671e9f94d5e4d21a021daf024224479",
            "value": "100%"
          }
        },
        "ad7a6c8e7c9d42b6b81fbd562dbd04a0": {
          "model_module": "@jupyter-widgets/controls",
          "model_name": "FloatProgressModel",
          "model_module_version": "1.5.0",
          "state": {
            "_dom_classes": [],
            "_model_module": "@jupyter-widgets/controls",
            "_model_module_version": "1.5.0",
            "_model_name": "FloatProgressModel",
            "_view_count": null,
            "_view_module": "@jupyter-widgets/controls",
            "_view_module_version": "1.5.0",
            "_view_name": "ProgressView",
            "bar_style": "success",
            "description": "",
            "description_tooltip": null,
            "layout": "IPY_MODEL_709fcd0c4a45482caa29f0924fe4b187",
            "max": 9912422,
            "min": 0,
            "orientation": "horizontal",
            "style": "IPY_MODEL_d5fa0e530afd4d5fbb3d3cdb1e06deac",
            "value": 9912422
          }
        },
        "427e8a06ef8d4f23a40e40c67026e703": {
          "model_module": "@jupyter-widgets/controls",
          "model_name": "HTMLModel",
          "model_module_version": "1.5.0",
          "state": {
            "_dom_classes": [],
            "_model_module": "@jupyter-widgets/controls",
            "_model_module_version": "1.5.0",
            "_model_name": "HTMLModel",
            "_view_count": null,
            "_view_module": "@jupyter-widgets/controls",
            "_view_module_version": "1.5.0",
            "_view_name": "HTMLView",
            "description": "",
            "description_tooltip": null,
            "layout": "IPY_MODEL_adcc15c50a684a35830d111df0bee8b9",
            "placeholder": "​",
            "style": "IPY_MODEL_531352dcdcd04666ab1b88d9b1f4d4d4",
            "value": " 9912422/9912422 [00:00&lt;00:00, 128737300.65it/s]"
          }
        },
        "4610a8ad62c44adab73356f97871fd09": {
          "model_module": "@jupyter-widgets/base",
          "model_name": "LayoutModel",
          "model_module_version": "1.2.0",
          "state": {
            "_model_module": "@jupyter-widgets/base",
            "_model_module_version": "1.2.0",
            "_model_name": "LayoutModel",
            "_view_count": null,
            "_view_module": "@jupyter-widgets/base",
            "_view_module_version": "1.2.0",
            "_view_name": "LayoutView",
            "align_content": null,
            "align_items": null,
            "align_self": null,
            "border": null,
            "bottom": null,
            "display": null,
            "flex": null,
            "flex_flow": null,
            "grid_area": null,
            "grid_auto_columns": null,
            "grid_auto_flow": null,
            "grid_auto_rows": null,
            "grid_column": null,
            "grid_gap": null,
            "grid_row": null,
            "grid_template_areas": null,
            "grid_template_columns": null,
            "grid_template_rows": null,
            "height": null,
            "justify_content": null,
            "justify_items": null,
            "left": null,
            "margin": null,
            "max_height": null,
            "max_width": null,
            "min_height": null,
            "min_width": null,
            "object_fit": null,
            "object_position": null,
            "order": null,
            "overflow": null,
            "overflow_x": null,
            "overflow_y": null,
            "padding": null,
            "right": null,
            "top": null,
            "visibility": null,
            "width": null
          }
        },
        "cdade3bb9c22489ea5f15e01a69b3dcc": {
          "model_module": "@jupyter-widgets/base",
          "model_name": "LayoutModel",
          "model_module_version": "1.2.0",
          "state": {
            "_model_module": "@jupyter-widgets/base",
            "_model_module_version": "1.2.0",
            "_model_name": "LayoutModel",
            "_view_count": null,
            "_view_module": "@jupyter-widgets/base",
            "_view_module_version": "1.2.0",
            "_view_name": "LayoutView",
            "align_content": null,
            "align_items": null,
            "align_self": null,
            "border": null,
            "bottom": null,
            "display": null,
            "flex": null,
            "flex_flow": null,
            "grid_area": null,
            "grid_auto_columns": null,
            "grid_auto_flow": null,
            "grid_auto_rows": null,
            "grid_column": null,
            "grid_gap": null,
            "grid_row": null,
            "grid_template_areas": null,
            "grid_template_columns": null,
            "grid_template_rows": null,
            "height": null,
            "justify_content": null,
            "justify_items": null,
            "left": null,
            "margin": null,
            "max_height": null,
            "max_width": null,
            "min_height": null,
            "min_width": null,
            "object_fit": null,
            "object_position": null,
            "order": null,
            "overflow": null,
            "overflow_x": null,
            "overflow_y": null,
            "padding": null,
            "right": null,
            "top": null,
            "visibility": null,
            "width": null
          }
        },
        "d671e9f94d5e4d21a021daf024224479": {
          "model_module": "@jupyter-widgets/controls",
          "model_name": "DescriptionStyleModel",
          "model_module_version": "1.5.0",
          "state": {
            "_model_module": "@jupyter-widgets/controls",
            "_model_module_version": "1.5.0",
            "_model_name": "DescriptionStyleModel",
            "_view_count": null,
            "_view_module": "@jupyter-widgets/base",
            "_view_module_version": "1.2.0",
            "_view_name": "StyleView",
            "description_width": ""
          }
        },
        "709fcd0c4a45482caa29f0924fe4b187": {
          "model_module": "@jupyter-widgets/base",
          "model_name": "LayoutModel",
          "model_module_version": "1.2.0",
          "state": {
            "_model_module": "@jupyter-widgets/base",
            "_model_module_version": "1.2.0",
            "_model_name": "LayoutModel",
            "_view_count": null,
            "_view_module": "@jupyter-widgets/base",
            "_view_module_version": "1.2.0",
            "_view_name": "LayoutView",
            "align_content": null,
            "align_items": null,
            "align_self": null,
            "border": null,
            "bottom": null,
            "display": null,
            "flex": null,
            "flex_flow": null,
            "grid_area": null,
            "grid_auto_columns": null,
            "grid_auto_flow": null,
            "grid_auto_rows": null,
            "grid_column": null,
            "grid_gap": null,
            "grid_row": null,
            "grid_template_areas": null,
            "grid_template_columns": null,
            "grid_template_rows": null,
            "height": null,
            "justify_content": null,
            "justify_items": null,
            "left": null,
            "margin": null,
            "max_height": null,
            "max_width": null,
            "min_height": null,
            "min_width": null,
            "object_fit": null,
            "object_position": null,
            "order": null,
            "overflow": null,
            "overflow_x": null,
            "overflow_y": null,
            "padding": null,
            "right": null,
            "top": null,
            "visibility": null,
            "width": null
          }
        },
        "d5fa0e530afd4d5fbb3d3cdb1e06deac": {
          "model_module": "@jupyter-widgets/controls",
          "model_name": "ProgressStyleModel",
          "model_module_version": "1.5.0",
          "state": {
            "_model_module": "@jupyter-widgets/controls",
            "_model_module_version": "1.5.0",
            "_model_name": "ProgressStyleModel",
            "_view_count": null,
            "_view_module": "@jupyter-widgets/base",
            "_view_module_version": "1.2.0",
            "_view_name": "StyleView",
            "bar_color": null,
            "description_width": ""
          }
        },
        "adcc15c50a684a35830d111df0bee8b9": {
          "model_module": "@jupyter-widgets/base",
          "model_name": "LayoutModel",
          "model_module_version": "1.2.0",
          "state": {
            "_model_module": "@jupyter-widgets/base",
            "_model_module_version": "1.2.0",
            "_model_name": "LayoutModel",
            "_view_count": null,
            "_view_module": "@jupyter-widgets/base",
            "_view_module_version": "1.2.0",
            "_view_name": "LayoutView",
            "align_content": null,
            "align_items": null,
            "align_self": null,
            "border": null,
            "bottom": null,
            "display": null,
            "flex": null,
            "flex_flow": null,
            "grid_area": null,
            "grid_auto_columns": null,
            "grid_auto_flow": null,
            "grid_auto_rows": null,
            "grid_column": null,
            "grid_gap": null,
            "grid_row": null,
            "grid_template_areas": null,
            "grid_template_columns": null,
            "grid_template_rows": null,
            "height": null,
            "justify_content": null,
            "justify_items": null,
            "left": null,
            "margin": null,
            "max_height": null,
            "max_width": null,
            "min_height": null,
            "min_width": null,
            "object_fit": null,
            "object_position": null,
            "order": null,
            "overflow": null,
            "overflow_x": null,
            "overflow_y": null,
            "padding": null,
            "right": null,
            "top": null,
            "visibility": null,
            "width": null
          }
        },
        "531352dcdcd04666ab1b88d9b1f4d4d4": {
          "model_module": "@jupyter-widgets/controls",
          "model_name": "DescriptionStyleModel",
          "model_module_version": "1.5.0",
          "state": {
            "_model_module": "@jupyter-widgets/controls",
            "_model_module_version": "1.5.0",
            "_model_name": "DescriptionStyleModel",
            "_view_count": null,
            "_view_module": "@jupyter-widgets/base",
            "_view_module_version": "1.2.0",
            "_view_name": "StyleView",
            "description_width": ""
          }
        },
        "10b7675024fe4d5eafddc7d7cb8a7b30": {
          "model_module": "@jupyter-widgets/controls",
          "model_name": "HBoxModel",
          "model_module_version": "1.5.0",
          "state": {
            "_dom_classes": [],
            "_model_module": "@jupyter-widgets/controls",
            "_model_module_version": "1.5.0",
            "_model_name": "HBoxModel",
            "_view_count": null,
            "_view_module": "@jupyter-widgets/controls",
            "_view_module_version": "1.5.0",
            "_view_name": "HBoxView",
            "box_style": "",
            "children": [
              "IPY_MODEL_a54fda1dc7a5467d9f3cbb55b155ccee",
              "IPY_MODEL_28ec74415bab4e0b86e547f24e0f8de9",
              "IPY_MODEL_ee7e47c374b44e0b8348a192b9e4faa9"
            ],
            "layout": "IPY_MODEL_029e25ee296a409cb1afc0d0f6333b17"
          }
        },
        "a54fda1dc7a5467d9f3cbb55b155ccee": {
          "model_module": "@jupyter-widgets/controls",
          "model_name": "HTMLModel",
          "model_module_version": "1.5.0",
          "state": {
            "_dom_classes": [],
            "_model_module": "@jupyter-widgets/controls",
            "_model_module_version": "1.5.0",
            "_model_name": "HTMLModel",
            "_view_count": null,
            "_view_module": "@jupyter-widgets/controls",
            "_view_module_version": "1.5.0",
            "_view_name": "HTMLView",
            "description": "",
            "description_tooltip": null,
            "layout": "IPY_MODEL_6213e51c9e524d299344df57ea1df071",
            "placeholder": "​",
            "style": "IPY_MODEL_fc4e1dd39fb24cc4b49676dcf5ac5b33",
            "value": "100%"
          }
        },
        "28ec74415bab4e0b86e547f24e0f8de9": {
          "model_module": "@jupyter-widgets/controls",
          "model_name": "FloatProgressModel",
          "model_module_version": "1.5.0",
          "state": {
            "_dom_classes": [],
            "_model_module": "@jupyter-widgets/controls",
            "_model_module_version": "1.5.0",
            "_model_name": "FloatProgressModel",
            "_view_count": null,
            "_view_module": "@jupyter-widgets/controls",
            "_view_module_version": "1.5.0",
            "_view_name": "ProgressView",
            "bar_style": "success",
            "description": "",
            "description_tooltip": null,
            "layout": "IPY_MODEL_83f8f331f5a14331bf0c5e08e212800c",
            "max": 28881,
            "min": 0,
            "orientation": "horizontal",
            "style": "IPY_MODEL_34fdb2594bd944f5b606f06868622b3e",
            "value": 28881
          }
        },
        "ee7e47c374b44e0b8348a192b9e4faa9": {
          "model_module": "@jupyter-widgets/controls",
          "model_name": "HTMLModel",
          "model_module_version": "1.5.0",
          "state": {
            "_dom_classes": [],
            "_model_module": "@jupyter-widgets/controls",
            "_model_module_version": "1.5.0",
            "_model_name": "HTMLModel",
            "_view_count": null,
            "_view_module": "@jupyter-widgets/controls",
            "_view_module_version": "1.5.0",
            "_view_name": "HTMLView",
            "description": "",
            "description_tooltip": null,
            "layout": "IPY_MODEL_8bcff50ddc324c71ba42fc5402e30db4",
            "placeholder": "​",
            "style": "IPY_MODEL_6e3a8ce563ff4a55a521fbd3ac59e669",
            "value": " 28881/28881 [00:00&lt;00:00, 844710.39it/s]"
          }
        },
        "029e25ee296a409cb1afc0d0f6333b17": {
          "model_module": "@jupyter-widgets/base",
          "model_name": "LayoutModel",
          "model_module_version": "1.2.0",
          "state": {
            "_model_module": "@jupyter-widgets/base",
            "_model_module_version": "1.2.0",
            "_model_name": "LayoutModel",
            "_view_count": null,
            "_view_module": "@jupyter-widgets/base",
            "_view_module_version": "1.2.0",
            "_view_name": "LayoutView",
            "align_content": null,
            "align_items": null,
            "align_self": null,
            "border": null,
            "bottom": null,
            "display": null,
            "flex": null,
            "flex_flow": null,
            "grid_area": null,
            "grid_auto_columns": null,
            "grid_auto_flow": null,
            "grid_auto_rows": null,
            "grid_column": null,
            "grid_gap": null,
            "grid_row": null,
            "grid_template_areas": null,
            "grid_template_columns": null,
            "grid_template_rows": null,
            "height": null,
            "justify_content": null,
            "justify_items": null,
            "left": null,
            "margin": null,
            "max_height": null,
            "max_width": null,
            "min_height": null,
            "min_width": null,
            "object_fit": null,
            "object_position": null,
            "order": null,
            "overflow": null,
            "overflow_x": null,
            "overflow_y": null,
            "padding": null,
            "right": null,
            "top": null,
            "visibility": null,
            "width": null
          }
        },
        "6213e51c9e524d299344df57ea1df071": {
          "model_module": "@jupyter-widgets/base",
          "model_name": "LayoutModel",
          "model_module_version": "1.2.0",
          "state": {
            "_model_module": "@jupyter-widgets/base",
            "_model_module_version": "1.2.0",
            "_model_name": "LayoutModel",
            "_view_count": null,
            "_view_module": "@jupyter-widgets/base",
            "_view_module_version": "1.2.0",
            "_view_name": "LayoutView",
            "align_content": null,
            "align_items": null,
            "align_self": null,
            "border": null,
            "bottom": null,
            "display": null,
            "flex": null,
            "flex_flow": null,
            "grid_area": null,
            "grid_auto_columns": null,
            "grid_auto_flow": null,
            "grid_auto_rows": null,
            "grid_column": null,
            "grid_gap": null,
            "grid_row": null,
            "grid_template_areas": null,
            "grid_template_columns": null,
            "grid_template_rows": null,
            "height": null,
            "justify_content": null,
            "justify_items": null,
            "left": null,
            "margin": null,
            "max_height": null,
            "max_width": null,
            "min_height": null,
            "min_width": null,
            "object_fit": null,
            "object_position": null,
            "order": null,
            "overflow": null,
            "overflow_x": null,
            "overflow_y": null,
            "padding": null,
            "right": null,
            "top": null,
            "visibility": null,
            "width": null
          }
        },
        "fc4e1dd39fb24cc4b49676dcf5ac5b33": {
          "model_module": "@jupyter-widgets/controls",
          "model_name": "DescriptionStyleModel",
          "model_module_version": "1.5.0",
          "state": {
            "_model_module": "@jupyter-widgets/controls",
            "_model_module_version": "1.5.0",
            "_model_name": "DescriptionStyleModel",
            "_view_count": null,
            "_view_module": "@jupyter-widgets/base",
            "_view_module_version": "1.2.0",
            "_view_name": "StyleView",
            "description_width": ""
          }
        },
        "83f8f331f5a14331bf0c5e08e212800c": {
          "model_module": "@jupyter-widgets/base",
          "model_name": "LayoutModel",
          "model_module_version": "1.2.0",
          "state": {
            "_model_module": "@jupyter-widgets/base",
            "_model_module_version": "1.2.0",
            "_model_name": "LayoutModel",
            "_view_count": null,
            "_view_module": "@jupyter-widgets/base",
            "_view_module_version": "1.2.0",
            "_view_name": "LayoutView",
            "align_content": null,
            "align_items": null,
            "align_self": null,
            "border": null,
            "bottom": null,
            "display": null,
            "flex": null,
            "flex_flow": null,
            "grid_area": null,
            "grid_auto_columns": null,
            "grid_auto_flow": null,
            "grid_auto_rows": null,
            "grid_column": null,
            "grid_gap": null,
            "grid_row": null,
            "grid_template_areas": null,
            "grid_template_columns": null,
            "grid_template_rows": null,
            "height": null,
            "justify_content": null,
            "justify_items": null,
            "left": null,
            "margin": null,
            "max_height": null,
            "max_width": null,
            "min_height": null,
            "min_width": null,
            "object_fit": null,
            "object_position": null,
            "order": null,
            "overflow": null,
            "overflow_x": null,
            "overflow_y": null,
            "padding": null,
            "right": null,
            "top": null,
            "visibility": null,
            "width": null
          }
        },
        "34fdb2594bd944f5b606f06868622b3e": {
          "model_module": "@jupyter-widgets/controls",
          "model_name": "ProgressStyleModel",
          "model_module_version": "1.5.0",
          "state": {
            "_model_module": "@jupyter-widgets/controls",
            "_model_module_version": "1.5.0",
            "_model_name": "ProgressStyleModel",
            "_view_count": null,
            "_view_module": "@jupyter-widgets/base",
            "_view_module_version": "1.2.0",
            "_view_name": "StyleView",
            "bar_color": null,
            "description_width": ""
          }
        },
        "8bcff50ddc324c71ba42fc5402e30db4": {
          "model_module": "@jupyter-widgets/base",
          "model_name": "LayoutModel",
          "model_module_version": "1.2.0",
          "state": {
            "_model_module": "@jupyter-widgets/base",
            "_model_module_version": "1.2.0",
            "_model_name": "LayoutModel",
            "_view_count": null,
            "_view_module": "@jupyter-widgets/base",
            "_view_module_version": "1.2.0",
            "_view_name": "LayoutView",
            "align_content": null,
            "align_items": null,
            "align_self": null,
            "border": null,
            "bottom": null,
            "display": null,
            "flex": null,
            "flex_flow": null,
            "grid_area": null,
            "grid_auto_columns": null,
            "grid_auto_flow": null,
            "grid_auto_rows": null,
            "grid_column": null,
            "grid_gap": null,
            "grid_row": null,
            "grid_template_areas": null,
            "grid_template_columns": null,
            "grid_template_rows": null,
            "height": null,
            "justify_content": null,
            "justify_items": null,
            "left": null,
            "margin": null,
            "max_height": null,
            "max_width": null,
            "min_height": null,
            "min_width": null,
            "object_fit": null,
            "object_position": null,
            "order": null,
            "overflow": null,
            "overflow_x": null,
            "overflow_y": null,
            "padding": null,
            "right": null,
            "top": null,
            "visibility": null,
            "width": null
          }
        },
        "6e3a8ce563ff4a55a521fbd3ac59e669": {
          "model_module": "@jupyter-widgets/controls",
          "model_name": "DescriptionStyleModel",
          "model_module_version": "1.5.0",
          "state": {
            "_model_module": "@jupyter-widgets/controls",
            "_model_module_version": "1.5.0",
            "_model_name": "DescriptionStyleModel",
            "_view_count": null,
            "_view_module": "@jupyter-widgets/base",
            "_view_module_version": "1.2.0",
            "_view_name": "StyleView",
            "description_width": ""
          }
        },
        "dd15f6df20bf4a2693d7e846068d5060": {
          "model_module": "@jupyter-widgets/controls",
          "model_name": "HBoxModel",
          "model_module_version": "1.5.0",
          "state": {
            "_dom_classes": [],
            "_model_module": "@jupyter-widgets/controls",
            "_model_module_version": "1.5.0",
            "_model_name": "HBoxModel",
            "_view_count": null,
            "_view_module": "@jupyter-widgets/controls",
            "_view_module_version": "1.5.0",
            "_view_name": "HBoxView",
            "box_style": "",
            "children": [
              "IPY_MODEL_0a5ee82707ec4475b2f23f8f43a3de3e",
              "IPY_MODEL_a728a2ce6f444f93a36a8ca16a06fac6",
              "IPY_MODEL_fef5882ec4604f5b91a36fb5851181c7"
            ],
            "layout": "IPY_MODEL_5f32b0034d094d3da2d71ff28a87dced"
          }
        },
        "0a5ee82707ec4475b2f23f8f43a3de3e": {
          "model_module": "@jupyter-widgets/controls",
          "model_name": "HTMLModel",
          "model_module_version": "1.5.0",
          "state": {
            "_dom_classes": [],
            "_model_module": "@jupyter-widgets/controls",
            "_model_module_version": "1.5.0",
            "_model_name": "HTMLModel",
            "_view_count": null,
            "_view_module": "@jupyter-widgets/controls",
            "_view_module_version": "1.5.0",
            "_view_name": "HTMLView",
            "description": "",
            "description_tooltip": null,
            "layout": "IPY_MODEL_a5374af1f84345acb927af1ff44226ef",
            "placeholder": "​",
            "style": "IPY_MODEL_6022964b72ea463f853cf275f012e57b",
            "value": "100%"
          }
        },
        "a728a2ce6f444f93a36a8ca16a06fac6": {
          "model_module": "@jupyter-widgets/controls",
          "model_name": "FloatProgressModel",
          "model_module_version": "1.5.0",
          "state": {
            "_dom_classes": [],
            "_model_module": "@jupyter-widgets/controls",
            "_model_module_version": "1.5.0",
            "_model_name": "FloatProgressModel",
            "_view_count": null,
            "_view_module": "@jupyter-widgets/controls",
            "_view_module_version": "1.5.0",
            "_view_name": "ProgressView",
            "bar_style": "success",
            "description": "",
            "description_tooltip": null,
            "layout": "IPY_MODEL_56db6227b52b45f2bbcaef57bfedaef2",
            "max": 1648877,
            "min": 0,
            "orientation": "horizontal",
            "style": "IPY_MODEL_6c2eddfa7ef4400d91eb572fc81d4d60",
            "value": 1648877
          }
        },
        "fef5882ec4604f5b91a36fb5851181c7": {
          "model_module": "@jupyter-widgets/controls",
          "model_name": "HTMLModel",
          "model_module_version": "1.5.0",
          "state": {
            "_dom_classes": [],
            "_model_module": "@jupyter-widgets/controls",
            "_model_module_version": "1.5.0",
            "_model_name": "HTMLModel",
            "_view_count": null,
            "_view_module": "@jupyter-widgets/controls",
            "_view_module_version": "1.5.0",
            "_view_name": "HTMLView",
            "description": "",
            "description_tooltip": null,
            "layout": "IPY_MODEL_bec114b2a9a14008944b8a7e69a8f060",
            "placeholder": "​",
            "style": "IPY_MODEL_df4b9cdcfb2948e29ad59cc42f807ec5",
            "value": " 1648877/1648877 [00:00&lt;00:00, 30804929.03it/s]"
          }
        },
        "5f32b0034d094d3da2d71ff28a87dced": {
          "model_module": "@jupyter-widgets/base",
          "model_name": "LayoutModel",
          "model_module_version": "1.2.0",
          "state": {
            "_model_module": "@jupyter-widgets/base",
            "_model_module_version": "1.2.0",
            "_model_name": "LayoutModel",
            "_view_count": null,
            "_view_module": "@jupyter-widgets/base",
            "_view_module_version": "1.2.0",
            "_view_name": "LayoutView",
            "align_content": null,
            "align_items": null,
            "align_self": null,
            "border": null,
            "bottom": null,
            "display": null,
            "flex": null,
            "flex_flow": null,
            "grid_area": null,
            "grid_auto_columns": null,
            "grid_auto_flow": null,
            "grid_auto_rows": null,
            "grid_column": null,
            "grid_gap": null,
            "grid_row": null,
            "grid_template_areas": null,
            "grid_template_columns": null,
            "grid_template_rows": null,
            "height": null,
            "justify_content": null,
            "justify_items": null,
            "left": null,
            "margin": null,
            "max_height": null,
            "max_width": null,
            "min_height": null,
            "min_width": null,
            "object_fit": null,
            "object_position": null,
            "order": null,
            "overflow": null,
            "overflow_x": null,
            "overflow_y": null,
            "padding": null,
            "right": null,
            "top": null,
            "visibility": null,
            "width": null
          }
        },
        "a5374af1f84345acb927af1ff44226ef": {
          "model_module": "@jupyter-widgets/base",
          "model_name": "LayoutModel",
          "model_module_version": "1.2.0",
          "state": {
            "_model_module": "@jupyter-widgets/base",
            "_model_module_version": "1.2.0",
            "_model_name": "LayoutModel",
            "_view_count": null,
            "_view_module": "@jupyter-widgets/base",
            "_view_module_version": "1.2.0",
            "_view_name": "LayoutView",
            "align_content": null,
            "align_items": null,
            "align_self": null,
            "border": null,
            "bottom": null,
            "display": null,
            "flex": null,
            "flex_flow": null,
            "grid_area": null,
            "grid_auto_columns": null,
            "grid_auto_flow": null,
            "grid_auto_rows": null,
            "grid_column": null,
            "grid_gap": null,
            "grid_row": null,
            "grid_template_areas": null,
            "grid_template_columns": null,
            "grid_template_rows": null,
            "height": null,
            "justify_content": null,
            "justify_items": null,
            "left": null,
            "margin": null,
            "max_height": null,
            "max_width": null,
            "min_height": null,
            "min_width": null,
            "object_fit": null,
            "object_position": null,
            "order": null,
            "overflow": null,
            "overflow_x": null,
            "overflow_y": null,
            "padding": null,
            "right": null,
            "top": null,
            "visibility": null,
            "width": null
          }
        },
        "6022964b72ea463f853cf275f012e57b": {
          "model_module": "@jupyter-widgets/controls",
          "model_name": "DescriptionStyleModel",
          "model_module_version": "1.5.0",
          "state": {
            "_model_module": "@jupyter-widgets/controls",
            "_model_module_version": "1.5.0",
            "_model_name": "DescriptionStyleModel",
            "_view_count": null,
            "_view_module": "@jupyter-widgets/base",
            "_view_module_version": "1.2.0",
            "_view_name": "StyleView",
            "description_width": ""
          }
        },
        "56db6227b52b45f2bbcaef57bfedaef2": {
          "model_module": "@jupyter-widgets/base",
          "model_name": "LayoutModel",
          "model_module_version": "1.2.0",
          "state": {
            "_model_module": "@jupyter-widgets/base",
            "_model_module_version": "1.2.0",
            "_model_name": "LayoutModel",
            "_view_count": null,
            "_view_module": "@jupyter-widgets/base",
            "_view_module_version": "1.2.0",
            "_view_name": "LayoutView",
            "align_content": null,
            "align_items": null,
            "align_self": null,
            "border": null,
            "bottom": null,
            "display": null,
            "flex": null,
            "flex_flow": null,
            "grid_area": null,
            "grid_auto_columns": null,
            "grid_auto_flow": null,
            "grid_auto_rows": null,
            "grid_column": null,
            "grid_gap": null,
            "grid_row": null,
            "grid_template_areas": null,
            "grid_template_columns": null,
            "grid_template_rows": null,
            "height": null,
            "justify_content": null,
            "justify_items": null,
            "left": null,
            "margin": null,
            "max_height": null,
            "max_width": null,
            "min_height": null,
            "min_width": null,
            "object_fit": null,
            "object_position": null,
            "order": null,
            "overflow": null,
            "overflow_x": null,
            "overflow_y": null,
            "padding": null,
            "right": null,
            "top": null,
            "visibility": null,
            "width": null
          }
        },
        "6c2eddfa7ef4400d91eb572fc81d4d60": {
          "model_module": "@jupyter-widgets/controls",
          "model_name": "ProgressStyleModel",
          "model_module_version": "1.5.0",
          "state": {
            "_model_module": "@jupyter-widgets/controls",
            "_model_module_version": "1.5.0",
            "_model_name": "ProgressStyleModel",
            "_view_count": null,
            "_view_module": "@jupyter-widgets/base",
            "_view_module_version": "1.2.0",
            "_view_name": "StyleView",
            "bar_color": null,
            "description_width": ""
          }
        },
        "bec114b2a9a14008944b8a7e69a8f060": {
          "model_module": "@jupyter-widgets/base",
          "model_name": "LayoutModel",
          "model_module_version": "1.2.0",
          "state": {
            "_model_module": "@jupyter-widgets/base",
            "_model_module_version": "1.2.0",
            "_model_name": "LayoutModel",
            "_view_count": null,
            "_view_module": "@jupyter-widgets/base",
            "_view_module_version": "1.2.0",
            "_view_name": "LayoutView",
            "align_content": null,
            "align_items": null,
            "align_self": null,
            "border": null,
            "bottom": null,
            "display": null,
            "flex": null,
            "flex_flow": null,
            "grid_area": null,
            "grid_auto_columns": null,
            "grid_auto_flow": null,
            "grid_auto_rows": null,
            "grid_column": null,
            "grid_gap": null,
            "grid_row": null,
            "grid_template_areas": null,
            "grid_template_columns": null,
            "grid_template_rows": null,
            "height": null,
            "justify_content": null,
            "justify_items": null,
            "left": null,
            "margin": null,
            "max_height": null,
            "max_width": null,
            "min_height": null,
            "min_width": null,
            "object_fit": null,
            "object_position": null,
            "order": null,
            "overflow": null,
            "overflow_x": null,
            "overflow_y": null,
            "padding": null,
            "right": null,
            "top": null,
            "visibility": null,
            "width": null
          }
        },
        "df4b9cdcfb2948e29ad59cc42f807ec5": {
          "model_module": "@jupyter-widgets/controls",
          "model_name": "DescriptionStyleModel",
          "model_module_version": "1.5.0",
          "state": {
            "_model_module": "@jupyter-widgets/controls",
            "_model_module_version": "1.5.0",
            "_model_name": "DescriptionStyleModel",
            "_view_count": null,
            "_view_module": "@jupyter-widgets/base",
            "_view_module_version": "1.2.0",
            "_view_name": "StyleView",
            "description_width": ""
          }
        },
        "487ab523739d4b88a3173527c341ec2b": {
          "model_module": "@jupyter-widgets/controls",
          "model_name": "HBoxModel",
          "model_module_version": "1.5.0",
          "state": {
            "_dom_classes": [],
            "_model_module": "@jupyter-widgets/controls",
            "_model_module_version": "1.5.0",
            "_model_name": "HBoxModel",
            "_view_count": null,
            "_view_module": "@jupyter-widgets/controls",
            "_view_module_version": "1.5.0",
            "_view_name": "HBoxView",
            "box_style": "",
            "children": [
              "IPY_MODEL_46a00f58daa44bf49bfcdd12f7d4435b",
              "IPY_MODEL_0cd5394c84ba4db2bf56f6869d350d15",
              "IPY_MODEL_c5ad18ca1ba04e82ae39186626378af7"
            ],
            "layout": "IPY_MODEL_43add04523734c22a190e80fd91a1d93"
          }
        },
        "46a00f58daa44bf49bfcdd12f7d4435b": {
          "model_module": "@jupyter-widgets/controls",
          "model_name": "HTMLModel",
          "model_module_version": "1.5.0",
          "state": {
            "_dom_classes": [],
            "_model_module": "@jupyter-widgets/controls",
            "_model_module_version": "1.5.0",
            "_model_name": "HTMLModel",
            "_view_count": null,
            "_view_module": "@jupyter-widgets/controls",
            "_view_module_version": "1.5.0",
            "_view_name": "HTMLView",
            "description": "",
            "description_tooltip": null,
            "layout": "IPY_MODEL_56c8e824f86243278818fd0cc2a26216",
            "placeholder": "​",
            "style": "IPY_MODEL_a73c0219b0a34bbabcb4b40319f4fb8f",
            "value": "100%"
          }
        },
        "0cd5394c84ba4db2bf56f6869d350d15": {
          "model_module": "@jupyter-widgets/controls",
          "model_name": "FloatProgressModel",
          "model_module_version": "1.5.0",
          "state": {
            "_dom_classes": [],
            "_model_module": "@jupyter-widgets/controls",
            "_model_module_version": "1.5.0",
            "_model_name": "FloatProgressModel",
            "_view_count": null,
            "_view_module": "@jupyter-widgets/controls",
            "_view_module_version": "1.5.0",
            "_view_name": "ProgressView",
            "bar_style": "success",
            "description": "",
            "description_tooltip": null,
            "layout": "IPY_MODEL_33ca64905f9c40448821aa269a8d0981",
            "max": 4542,
            "min": 0,
            "orientation": "horizontal",
            "style": "IPY_MODEL_55afbb6213bb4dd298a67e20caefad5f",
            "value": 4542
          }
        },
        "c5ad18ca1ba04e82ae39186626378af7": {
          "model_module": "@jupyter-widgets/controls",
          "model_name": "HTMLModel",
          "model_module_version": "1.5.0",
          "state": {
            "_dom_classes": [],
            "_model_module": "@jupyter-widgets/controls",
            "_model_module_version": "1.5.0",
            "_model_name": "HTMLModel",
            "_view_count": null,
            "_view_module": "@jupyter-widgets/controls",
            "_view_module_version": "1.5.0",
            "_view_name": "HTMLView",
            "description": "",
            "description_tooltip": null,
            "layout": "IPY_MODEL_6ac76ac086904c78ac0e5c85a8298dc0",
            "placeholder": "​",
            "style": "IPY_MODEL_73157e5c22b84be0ab544169cd187d22",
            "value": " 4542/4542 [00:00&lt;00:00, 72726.38it/s]"
          }
        },
        "43add04523734c22a190e80fd91a1d93": {
          "model_module": "@jupyter-widgets/base",
          "model_name": "LayoutModel",
          "model_module_version": "1.2.0",
          "state": {
            "_model_module": "@jupyter-widgets/base",
            "_model_module_version": "1.2.0",
            "_model_name": "LayoutModel",
            "_view_count": null,
            "_view_module": "@jupyter-widgets/base",
            "_view_module_version": "1.2.0",
            "_view_name": "LayoutView",
            "align_content": null,
            "align_items": null,
            "align_self": null,
            "border": null,
            "bottom": null,
            "display": null,
            "flex": null,
            "flex_flow": null,
            "grid_area": null,
            "grid_auto_columns": null,
            "grid_auto_flow": null,
            "grid_auto_rows": null,
            "grid_column": null,
            "grid_gap": null,
            "grid_row": null,
            "grid_template_areas": null,
            "grid_template_columns": null,
            "grid_template_rows": null,
            "height": null,
            "justify_content": null,
            "justify_items": null,
            "left": null,
            "margin": null,
            "max_height": null,
            "max_width": null,
            "min_height": null,
            "min_width": null,
            "object_fit": null,
            "object_position": null,
            "order": null,
            "overflow": null,
            "overflow_x": null,
            "overflow_y": null,
            "padding": null,
            "right": null,
            "top": null,
            "visibility": null,
            "width": null
          }
        },
        "56c8e824f86243278818fd0cc2a26216": {
          "model_module": "@jupyter-widgets/base",
          "model_name": "LayoutModel",
          "model_module_version": "1.2.0",
          "state": {
            "_model_module": "@jupyter-widgets/base",
            "_model_module_version": "1.2.0",
            "_model_name": "LayoutModel",
            "_view_count": null,
            "_view_module": "@jupyter-widgets/base",
            "_view_module_version": "1.2.0",
            "_view_name": "LayoutView",
            "align_content": null,
            "align_items": null,
            "align_self": null,
            "border": null,
            "bottom": null,
            "display": null,
            "flex": null,
            "flex_flow": null,
            "grid_area": null,
            "grid_auto_columns": null,
            "grid_auto_flow": null,
            "grid_auto_rows": null,
            "grid_column": null,
            "grid_gap": null,
            "grid_row": null,
            "grid_template_areas": null,
            "grid_template_columns": null,
            "grid_template_rows": null,
            "height": null,
            "justify_content": null,
            "justify_items": null,
            "left": null,
            "margin": null,
            "max_height": null,
            "max_width": null,
            "min_height": null,
            "min_width": null,
            "object_fit": null,
            "object_position": null,
            "order": null,
            "overflow": null,
            "overflow_x": null,
            "overflow_y": null,
            "padding": null,
            "right": null,
            "top": null,
            "visibility": null,
            "width": null
          }
        },
        "a73c0219b0a34bbabcb4b40319f4fb8f": {
          "model_module": "@jupyter-widgets/controls",
          "model_name": "DescriptionStyleModel",
          "model_module_version": "1.5.0",
          "state": {
            "_model_module": "@jupyter-widgets/controls",
            "_model_module_version": "1.5.0",
            "_model_name": "DescriptionStyleModel",
            "_view_count": null,
            "_view_module": "@jupyter-widgets/base",
            "_view_module_version": "1.2.0",
            "_view_name": "StyleView",
            "description_width": ""
          }
        },
        "33ca64905f9c40448821aa269a8d0981": {
          "model_module": "@jupyter-widgets/base",
          "model_name": "LayoutModel",
          "model_module_version": "1.2.0",
          "state": {
            "_model_module": "@jupyter-widgets/base",
            "_model_module_version": "1.2.0",
            "_model_name": "LayoutModel",
            "_view_count": null,
            "_view_module": "@jupyter-widgets/base",
            "_view_module_version": "1.2.0",
            "_view_name": "LayoutView",
            "align_content": null,
            "align_items": null,
            "align_self": null,
            "border": null,
            "bottom": null,
            "display": null,
            "flex": null,
            "flex_flow": null,
            "grid_area": null,
            "grid_auto_columns": null,
            "grid_auto_flow": null,
            "grid_auto_rows": null,
            "grid_column": null,
            "grid_gap": null,
            "grid_row": null,
            "grid_template_areas": null,
            "grid_template_columns": null,
            "grid_template_rows": null,
            "height": null,
            "justify_content": null,
            "justify_items": null,
            "left": null,
            "margin": null,
            "max_height": null,
            "max_width": null,
            "min_height": null,
            "min_width": null,
            "object_fit": null,
            "object_position": null,
            "order": null,
            "overflow": null,
            "overflow_x": null,
            "overflow_y": null,
            "padding": null,
            "right": null,
            "top": null,
            "visibility": null,
            "width": null
          }
        },
        "55afbb6213bb4dd298a67e20caefad5f": {
          "model_module": "@jupyter-widgets/controls",
          "model_name": "ProgressStyleModel",
          "model_module_version": "1.5.0",
          "state": {
            "_model_module": "@jupyter-widgets/controls",
            "_model_module_version": "1.5.0",
            "_model_name": "ProgressStyleModel",
            "_view_count": null,
            "_view_module": "@jupyter-widgets/base",
            "_view_module_version": "1.2.0",
            "_view_name": "StyleView",
            "bar_color": null,
            "description_width": ""
          }
        },
        "6ac76ac086904c78ac0e5c85a8298dc0": {
          "model_module": "@jupyter-widgets/base",
          "model_name": "LayoutModel",
          "model_module_version": "1.2.0",
          "state": {
            "_model_module": "@jupyter-widgets/base",
            "_model_module_version": "1.2.0",
            "_model_name": "LayoutModel",
            "_view_count": null,
            "_view_module": "@jupyter-widgets/base",
            "_view_module_version": "1.2.0",
            "_view_name": "LayoutView",
            "align_content": null,
            "align_items": null,
            "align_self": null,
            "border": null,
            "bottom": null,
            "display": null,
            "flex": null,
            "flex_flow": null,
            "grid_area": null,
            "grid_auto_columns": null,
            "grid_auto_flow": null,
            "grid_auto_rows": null,
            "grid_column": null,
            "grid_gap": null,
            "grid_row": null,
            "grid_template_areas": null,
            "grid_template_columns": null,
            "grid_template_rows": null,
            "height": null,
            "justify_content": null,
            "justify_items": null,
            "left": null,
            "margin": null,
            "max_height": null,
            "max_width": null,
            "min_height": null,
            "min_width": null,
            "object_fit": null,
            "object_position": null,
            "order": null,
            "overflow": null,
            "overflow_x": null,
            "overflow_y": null,
            "padding": null,
            "right": null,
            "top": null,
            "visibility": null,
            "width": null
          }
        },
        "73157e5c22b84be0ab544169cd187d22": {
          "model_module": "@jupyter-widgets/controls",
          "model_name": "DescriptionStyleModel",
          "model_module_version": "1.5.0",
          "state": {
            "_model_module": "@jupyter-widgets/controls",
            "_model_module_version": "1.5.0",
            "_model_name": "DescriptionStyleModel",
            "_view_count": null,
            "_view_module": "@jupyter-widgets/base",
            "_view_module_version": "1.2.0",
            "_view_name": "StyleView",
            "description_width": ""
          }
        }
      }
    }
  },
  "nbformat": 4,
  "nbformat_minor": 5
}