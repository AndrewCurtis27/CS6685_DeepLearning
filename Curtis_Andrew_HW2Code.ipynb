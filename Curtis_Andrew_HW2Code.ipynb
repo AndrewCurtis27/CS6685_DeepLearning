{
  "nbformat": 4,
  "nbformat_minor": 0,
  "metadata": {
    "colab": {
      "provenance": []
    },
    "kernelspec": {
      "name": "python3",
      "display_name": "Python 3"
    },
    "language_info": {
      "name": "python"
    }
  },
  "cells": [
    {
      "cell_type": "code",
      "execution_count": 1,
      "metadata": {
        "id": "Kqmby3vo-nFW"
      },
      "outputs": [],
      "source": [
        "# libraries\n",
        "import torch \n",
        "import numpy as np\n",
        "import torch.nn as nn\n",
        "import matplotlib.pyplot as plt\n",
        "import pandas as pd\n",
        "plt.style.use('ggplot')"
      ]
    },
    {
      "cell_type": "code",
      "source": [
        "# the function to generate the polynomial data \n",
        "\n",
        "def generate_poly_data(N, sigma):\n",
        "  \n",
        "   np.random.seed(100)\n",
        "   x = np.random.uniform(low = -1, high = 3, size = N)\n",
        "   y = [2 * i ** 2 - 3 * i + 1 for i in x] \n",
        "   noise = np.random.normal(0, sigma, N)\n",
        "   y = y + noise\n",
        "   return x, y"
      ],
      "metadata": {
        "id": "fnZTshSW-4SO"
      },
      "execution_count": 2,
      "outputs": []
    },
    {
      "cell_type": "code",
      "source": [
        "# generate data with N = 20\n",
        "# we will be using the x, y as the training data for the following questions\n",
        "x, y = generate_poly_data(20, 0.5)\n",
        "# plot x and y\n",
        "plt.scatter(x, y)\n",
        "plt.show()\n",
        "print(len(x))"
      ],
      "metadata": {
        "colab": {
          "base_uri": "https://localhost:8080/",
          "height": 282
        },
        "id": "4yABU3F5-4Wh",
        "outputId": "c5109ea5-ab84-49a1-da80-3334e0e06567"
      },
      "execution_count": 3,
      "outputs": [
        {
          "output_type": "display_data",
          "data": {
            "text/plain": [
              "<Figure size 432x288 with 1 Axes>"
            ],
            "image/png": "[encoded data removed]"
          },
          "metadata": {}
        },
        {
          "output_type": "stream",
          "name": "stdout",
          "text": [
            "20\n"
          ]
        }
      ]
    },
    {
      "cell_type": "code",
      "source": [
        "# Our test data \n",
        "# we can treat this test data as an approximation to the truth\n",
        "# we want to make some visual comparsions as well as compute test MSEs\n",
        "x_test = np.random.uniform(low = -1, high = 3, size = 1000)\n",
        "y_test = np.array([2 * i ** 2 - 3 * i + 1 for i in x_test]) \n",
        "plt.scatter(x_test, y_test)\n",
        "plt.show()"
      ],
      "metadata": {
        "colab": {
          "base_uri": "https://localhost:8080/",
          "height": 265
        },
        "id": "uCsr71KJ-4Y6",
        "outputId": "ef982f84-d19b-4b76-8f20-a0057df0ebd1"
      },
      "execution_count": 4,
      "outputs": [
        {
          "output_type": "display_data",
          "data": {
            "text/plain": [
              "<Figure size 432x288 with 1 Axes>"
            ],
            "image/png": "[encoded data removed]"
          },
          "metadata": {}
        }
      ]
    },
    {
      "cell_type": "code",
      "source": [
        "class linearRegression(nn.Module):\n",
        "  def __init__(self, input_dim, output_dim):\n",
        "    super(linearRegression, self).__init__()\n",
        "    self.linear = nn.Linear(input_dim, output_dim)\n",
        "\n",
        "  def forward(self, x):\n",
        "    out = self.linear(x)\n",
        "    return out"
      ],
      "metadata": {
        "id": "tW2CnwrC-4bn"
      },
      "execution_count": 5,
      "outputs": []
    },
    {
      "cell_type": "code",
      "source": [
        "x_dim = 1\n",
        "y_dim = 1\n",
        "\n",
        "x_test, x = x_test[:, None], x[:, None]\n",
        "y_test, y = y_test[:, None], y[:, None]\n",
        "\n",
        "n_epochs = 5000\n",
        "weight_decay = 0\n",
        "learning_rate = 1e-3\n",
        "\n",
        "x_test, x = torch.tensor(x_test).float(), torch.tensor(x).float()\n",
        "y_test, y = torch.tensor(y_test).float(), torch.tensor(y).float()\n",
        "\n",
        "loss_func = nn.MSELoss()\n",
        "\n",
        "model = linearRegression(x_dim, y_dim)\n",
        "\n",
        "optimizer = torch.optim.SGD(model.parameters(), lr=learning_rate, weight_decay = weight_decay)\n",
        "\n",
        "for epoch in range(n_epochs):\n",
        "  optimizer.zero_grad()\n",
        "  y_hat = model(x)\n",
        "  loss = loss_func(y, y_hat)\n",
        "  loss.backward()\n",
        "  optimizer.step()\n",
        "\n",
        "  if epoch % 500 == 0:\n",
        "              print(f\"Epoch {epoch} out of {n_epochs} == Loss: {loss.item()}\")"
      ],
      "metadata": {
        "colab": {
          "base_uri": "https://localhost:8080/"
        },
        "id": "tyZuGyxc-4gO",
        "outputId": "6ea09422-698e-4d89-cd06-6df18cacb049"
      },
      "execution_count": 6,
      "outputs": [
        {
          "output_type": "stream",
          "name": "stdout",
          "text": [
            "Epoch 0 out of 5000 == Loss: 24.069446563720703\n",
            "Epoch 500 out of 5000 == Loss: 5.298649787902832\n",
            "Epoch 1000 out of 5000 == Loss: 4.628238201141357\n",
            "Epoch 1500 out of 5000 == Loss: 4.448440074920654\n",
            "Epoch 2000 out of 5000 == Loss: 4.3934831619262695\n",
            "Epoch 2500 out of 5000 == Loss: 4.376645565032959\n",
            "Epoch 3000 out of 5000 == Loss: 4.371487617492676\n",
            "Epoch 3500 out of 5000 == Loss: 4.369906425476074\n",
            "Epoch 4000 out of 5000 == Loss: 4.369422435760498\n",
            "Epoch 4500 out of 5000 == Loss: 4.369274139404297\n"
          ]
        }
      ]
    },
    {
      "cell_type": "code",
      "source": [
        "def predict(model, x):\n",
        "  model.eval()\n",
        "  with torch.no_grad():\n",
        "    y_hat = model(x)\n",
        "    return y_hat.detach().cpu().numpy()"
      ],
      "metadata": {
        "id": "La8n6Vft-4iD"
      },
      "execution_count": 7,
      "outputs": []
    },
    {
      "cell_type": "code",
      "source": [
        "y_hat = predict(model, x_test[:, None])\n",
        "plt.scatter(x_test, y_hat)\n",
        "plt.scatter(x_test, y_test, c = \"black\", s = 1)\n",
        "plt.scatter(x, y)\n",
        "plt.show()\n",
        "print(list(model.parameters()))"
      ],
      "metadata": {
        "colab": {
          "base_uri": "https://localhost:8080/",
          "height": 317
        },
        "id": "jAqW9n-G-4j4",
        "outputId": "ca04532c-ac67-49da-df19-5bb7cc9024a8"
      },
      "execution_count": 8,
      "outputs": [
        {
          "output_type": "display_data",
          "data": {
            "text/plain": [
              "<Figure size 432x288 with 1 Axes>"
            ],
            "image/png": "[encoded data removed]"
          },
          "metadata": {}
        },
        {
          "output_type": "stream",
          "name": "stdout",
          "text": [
            "[Parameter containing:\n",
            "tensor([[1.0186]], requires_grad=True), Parameter containing:\n",
            "tensor([2.2506], requires_grad=True)]\n"
          ]
        }
      ]
    },
    {
      "cell_type": "markdown",
      "source": [
        "#Part 2.\n"
      ],
      "metadata": {
        "id": "e_IL3s3eM3Fr"
      }
    },
    {
      "cell_type": "code",
      "source": [
        "# We known the true model is an 2nd order polynomial \n",
        "'''*** Create the data for the x and x**2, fit the model, and plot as above the training data and the predictions of the test data.\n",
        "Then print the parameters of your regressionLayer or your model.module.\n",
        "Did you obtain something close to the true parameters?\n",
        "***'''\n",
        "x_dim = 1\n",
        "y_dim = 1\n",
        "\n",
        "x_test, x = x_test[:, None], x[:, None]\n",
        "y_test, y = y_test[:, None], y[:, None]\n",
        "c = torch.zeros(1, requires_grad=True)\n",
        "\n",
        "n_epochs = 5000\n",
        "weight_decay = 0\n",
        "learning_rate = 1e-3\n",
        "\n",
        "x_test, x = torch.tensor(x_test).float(), torch.tensor(x).float()\n",
        "y_test, y = torch.tensor(y_test).float(), torch.tensor(y).float()\n",
        "\n",
        "loss_func = nn.MSELoss()\n",
        "\n",
        "model = linearRegression(x_dim, y_dim)\n",
        "\n",
        "optimizer = torch.optim.SGD(model.parameters(), lr=learning_rate, weight_decay = weight_decay)\n",
        "\n",
        "for epoch in range(n_epochs):\n",
        "  optimizer.zero_grad()\n",
        "  y_hat = model(x*x + x + c)\n",
        "  loss = loss_func(y, y_hat)\n",
        "  loss.backward()\n",
        "  optimizer.step()\n",
        "\n",
        "  if epoch % 500 == 0:\n",
        "              print(f\"Epoch {epoch} out of {n_epochs} == Loss: {loss.item()}\")\n"
      ],
      "metadata": {
        "colab": {
          "base_uri": "https://localhost:8080/"
        },
        "id": "Aup9X_ZI-4l9",
        "outputId": "bb32d913-09c9-4194-9368-af973d409fa2"
      },
      "execution_count": 9,
      "outputs": [
        {
          "output_type": "stream",
          "name": "stdout",
          "text": [
            "Epoch 0 out of 5000 == Loss: 58.79972457885742\n",
            "Epoch 500 out of 5000 == Loss: 3.466219663619995\n"
          ]
        },
        {
          "output_type": "stream",
          "name": "stderr",
          "text": [
            "/usr/local/lib/python3.7/dist-packages/ipykernel_launcher.py:17: UserWarning: To copy construct from a tensor, it is recommended to use sourceTensor.clone().detach() or sourceTensor.clone().detach().requires_grad_(True), rather than torch.tensor(sourceTensor).\n",
            "/usr/local/lib/python3.7/dist-packages/ipykernel_launcher.py:18: UserWarning: To copy construct from a tensor, it is recommended to use sourceTensor.clone().detach() or sourceTensor.clone().detach().requires_grad_(True), rather than torch.tensor(sourceTensor).\n"
          ]
        },
        {
          "output_type": "stream",
          "name": "stdout",
          "text": [
            "Epoch 1000 out of 5000 == Loss: 3.0168838500976562\n",
            "Epoch 1500 out of 5000 == Loss: 2.8828506469726562\n",
            "Epoch 2000 out of 5000 == Loss: 2.842869997024536\n",
            "Epoch 2500 out of 5000 == Loss: 2.8309438228607178\n",
            "Epoch 3000 out of 5000 == Loss: 2.8273863792419434\n",
            "Epoch 3500 out of 5000 == Loss: 2.8263254165649414\n",
            "Epoch 4000 out of 5000 == Loss: 2.8260087966918945\n",
            "Epoch 4500 out of 5000 == Loss: 2.8259143829345703\n"
          ]
        }
      ]
    },
    {
      "cell_type": "code",
      "source": [
        "y_hat = predict(model, x_test[:, None])\n",
        "plt.scatter(x_test, y_hat)\n",
        "plt.scatter(x_test, y_test, c = \"black\", s = 1)\n",
        "plt.scatter(x, y)\n",
        "plt.show()\n",
        "\n",
        "print(list(model.parameters()))"
      ],
      "metadata": {
        "colab": {
          "base_uri": "https://localhost:8080/",
          "height": 317
        },
        "id": "GMu8YZ6zEahL",
        "outputId": "ea27d9c8-d1f1-4e2d-bf07-2bd6c263d647"
      },
      "execution_count": 10,
      "outputs": [
        {
          "output_type": "display_data",
          "data": {
            "text/plain": [
              "<Figure size 432x288 with 1 Axes>"
            ],
            "image/png": "[encoded data removed]"
          },
          "metadata": {}
        },
        {
          "output_type": "stream",
          "name": "stdout",
          "text": [
            "[Parameter containing:\n",
            "tensor([[0.4621]], requires_grad=True), Parameter containing:\n",
            "tensor([1.6762], requires_grad=True)]\n"
          ]
        }
      ]
    },
    {
      "cell_type": "markdown",
      "source": [
        "# The parameters are 0.4617 and 1.6793. So quite different. The loss is definitely the least with this 2nd degree polynomial fit."
      ],
      "metadata": {
        "id": "d4tzauZDNEEw"
      }
    },
    {
      "cell_type": "markdown",
      "source": [
        "#Part 3. "
      ],
      "metadata": {
        "id": "YuByP8gFNzt_"
      }
    },
    {
      "cell_type": "code",
      "source": [
        "'''*** Create the data for a 5 degree polynomial and fit it. Should you get a better MSE than for the previous two models?.\n",
        "hint: you might need to play with the learning rate until you obtain a good value\n",
        "***'''\n",
        "\n",
        "# We known the true model is an 2nd order polynomial \n",
        "'''*** Create the data for the x and x**2, fit the model, and plot as above the training data and the predictions of the test data.\n",
        "Then print the parameters of your regressionLayer or your model.module.\n",
        "Did you obtain something close to the true parameters?\n",
        "***'''\n",
        "x_dim = 1\n",
        "y_dim = 1\n",
        "\n",
        "x_test, x = x_test[:, None], x[:, None]\n",
        "y_test, y = y_test[:, None], y[:, None]\n",
        "\n",
        "n_epochs = 5000\n",
        "weight_decay = 0\n",
        "learning_rate = 10e-6\n",
        "c = torch.zeros(1, requires_grad=True)\n",
        "\n",
        "x_test, x = torch.tensor(x_test).float(), torch.tensor(x).float()\n",
        "y_test, y = torch.tensor(y_test).float(), torch.tensor(y).float()\n",
        "\n",
        "loss_func = nn.MSELoss()\n",
        "\n",
        "model = linearRegression(x_dim, y_dim)\n",
        "\n",
        "optimizer = torch.optim.SGD(model.parameters(), lr=learning_rate, weight_decay = weight_decay)\n",
        "\n",
        "for epoch in range(n_epochs):\n",
        "  optimizer.zero_grad()\n",
        "  y_hat = model(x*x*x*x*x + x*x*x*x + x*x*x + x*x + x + c)\n",
        "  loss = loss_func(y, y_hat)\n",
        "  loss.backward()\n",
        "  optimizer.step()\n",
        "\n",
        "  if epoch % 500 == 0:\n",
        "              print(f\"Epoch {epoch} out of {n_epochs} == Loss: {loss.item()}\")"
      ],
      "metadata": {
        "colab": {
          "base_uri": "https://localhost:8080/"
        },
        "id": "oMZgo4Vx-4qH",
        "outputId": "98d5a48f-4b4d-4e05-c502-7bce9afb27db"
      },
      "execution_count": 11,
      "outputs": [
        {
          "output_type": "stream",
          "name": "stdout",
          "text": [
            "Epoch 0 out of 5000 == Loss: 1244.9688720703125\n"
          ]
        },
        {
          "output_type": "stream",
          "name": "stderr",
          "text": [
            "/usr/local/lib/python3.7/dist-packages/ipykernel_launcher.py:21: UserWarning: To copy construct from a tensor, it is recommended to use sourceTensor.clone().detach() or sourceTensor.clone().detach().requires_grad_(True), rather than torch.tensor(sourceTensor).\n",
            "/usr/local/lib/python3.7/dist-packages/ipykernel_launcher.py:22: UserWarning: To copy construct from a tensor, it is recommended to use sourceTensor.clone().detach() or sourceTensor.clone().detach().requires_grad_(True), rather than torch.tensor(sourceTensor).\n"
          ]
        },
        {
          "output_type": "stream",
          "name": "stdout",
          "text": [
            "Epoch 500 out of 5000 == Loss: 4.205975532531738\n",
            "Epoch 1000 out of 5000 == Loss: 4.171388626098633\n",
            "Epoch 1500 out of 5000 == Loss: 4.13730525970459\n",
            "Epoch 2000 out of 5000 == Loss: 4.103716850280762\n",
            "Epoch 2500 out of 5000 == Loss: 4.070616722106934\n",
            "Epoch 3000 out of 5000 == Loss: 4.037998199462891\n",
            "Epoch 3500 out of 5000 == Loss: 4.005854606628418\n",
            "Epoch 4000 out of 5000 == Loss: 3.9741768836975098\n",
            "Epoch 4500 out of 5000 == Loss: 3.9429595470428467\n"
          ]
        }
      ]
    },
    {
      "cell_type": "code",
      "source": [
        "y_hat = predict(model, x_test[:, None])\n",
        "plt.scatter(x_test, y_hat)\n",
        "plt.scatter(x_test, y_test, c = \"black\", s = 1)\n",
        "plt.scatter(x, y)\n",
        "plt.show()\n",
        "print(list(model.parameters()))"
      ],
      "metadata": {
        "colab": {
          "base_uri": "https://localhost:8080/",
          "height": 317
        },
        "id": "v5R6rHplJJSZ",
        "outputId": "ce8a978c-92d2-484b-b037-fdd95516cfcb"
      },
      "execution_count": 12,
      "outputs": [
        {
          "output_type": "display_data",
          "data": {
            "text/plain": [
              "<Figure size 432x288 with 1 Axes>"
            ],
            "image/png": "[encoded data removed]"
          },
          "metadata": {}
        },
        {
          "output_type": "stream",
          "name": "stdout",
          "text": [
            "[Parameter containing:\n",
            "tensor([[0.0337]], requires_grad=True), Parameter containing:\n",
            "tensor([0.1676], requires_grad=True)]\n"
          ]
        }
      ]
    },
    {
      "cell_type": "markdown",
      "source": [
        "# The parameters are 0.0376 and -0.5511, so again quite different. The loss is  very close to the 2nd degree polynomial. I think with 5 parameters it should be able to have a lower loss than the 2nd degree. This is because it could overfit the data. Note, I had to tune the learning rate down quite slow to avoid nan loss results. "
      ],
      "metadata": {
        "id": "Tp2JTr_AN3V-"
      }
    },
    {
      "cell_type": "code",
      "source": [
        "'''*** Create a for loop for different values of sigma = [0.1, 0.5, 1], and N = [15, 100]\n",
        "use a 5 degree polynomial model with different values for regularization \n",
        "weight_decay = [0, 0.2, 0.5], compute the testing error \n",
        "***'''"
      ],
      "metadata": {
        "colab": {
          "base_uri": "https://localhost:8080/",
          "height": 53
        },
        "id": "WSVUvxJ2-4sk",
        "outputId": "aa1f6f8a-58a6-4469-b15e-7226baec4e0c"
      },
      "execution_count": 13,
      "outputs": [
        {
          "output_type": "execute_result",
          "data": {
            "text/plain": [
              "'*** Create a for loop for different values of sigma = [0.1, 0.5, 1], and N = [15, 100]\\nuse a 5 degree polynomial model with different values for regularization \\nweight_decay = [0, 0.2, 0.5], compute the testing error \\n***'"
            ],
            "application/vnd.google.colaboratory.intrinsic+json": {
              "type": "string"
            }
          },
          "metadata": {},
          "execution_count": 13
        }
      ]
    },
    {
      "cell_type": "code",
      "source": [
        "N = [15, 100]\n",
        "\n",
        "weight_decay = [0, 0.2, 0.5]\n",
        "\n",
        "sigma = [0.1, 0.5, 1]\n",
        "\n",
        "n_epochs = 5000\n",
        "\n",
        "learning_rate = 1e-6\n",
        "for s in sigma:\n",
        "  \n",
        "  for n in N:\n",
        "    x, y = generate_poly_data(n, s)\n",
        "    for w in weight_decay:\n",
        "      \n",
        "      x_dim = 1\n",
        "      y_dim = 1\n",
        "\n",
        "      x_test, x = x_test[:, None], x[:, None]\n",
        "      y_test, y = y_test[:, None], y[:, None]\n",
        "\n",
        "      \n",
        "      c = torch.zeros(1, requires_grad=True)\n",
        "\n",
        "      x_test, x = torch.tensor(x_test).float(), torch.tensor(x).float()\n",
        "      y_test, y = torch.tensor(y_test).float(), torch.tensor(y).float()\n",
        "\n",
        "      loss_func = nn.MSELoss()\n",
        "\n",
        "      model = linearRegression(x_dim, y_dim)\n",
        "\n",
        "      optimizer = torch.optim.SGD(model.parameters(), lr=learning_rate, weight_decay = w)\n",
        "\n",
        "      for epoch in range(n_epochs):\n",
        "        optimizer.zero_grad()\n",
        "        y_hat = model(x*x*x*x*x + x*x*x*x + x*x*x + x*x + x + c)\n",
        "        loss = loss_func(y, y_hat)\n",
        "        loss.backward()\n",
        "        optimizer.step()\n",
        "\n",
        "        # if epoch % 500 == 0:\n",
        "        #             print(f\"Epoch {epoch} out of {n_epochs} == Loss: {loss.item()}\")\n",
        "\n",
        "      y_hat = predict(model, x[:, None])\n",
        "      y_hat_tensor = torch.as_tensor(y_hat).float()\n",
        "      testing_error = torch.sum(y_hat_tensor - x_test)\n",
        "      print(f\"testing error: {testing_error}, Noise:  {n},  weight decay:  {w}, sigma:  {s}\")\n"
      ],
      "metadata": {
        "colab": {
          "base_uri": "https://localhost:8080/"
        },
        "id": "_SCthrPXOJCu",
        "outputId": "6268d2c8-2317-4324-ecba-1385a818dbfb"
      },
      "execution_count": 18,
      "outputs": [
        {
          "output_type": "stream",
          "name": "stderr",
          "text": [
            "/usr/local/lib/python3.7/dist-packages/ipykernel_launcher.py:25: UserWarning: To copy construct from a tensor, it is recommended to use sourceTensor.clone().detach() or sourceTensor.clone().detach().requires_grad_(True), rather than torch.tensor(sourceTensor).\n",
            "/usr/local/lib/python3.7/dist-packages/ipykernel_launcher.py:26: UserWarning: To copy construct from a tensor, it is recommended to use sourceTensor.clone().detach() or sourceTensor.clone().detach().requires_grad_(True), rather than torch.tensor(sourceTensor).\n"
          ]
        },
        {
          "output_type": "stream",
          "name": "stdout",
          "text": [
            "testing error: -20772.859375, Noise:  15,  weight decay:  0, sigma:  0.1\n",
            "testing error: -18980.724609375, Noise:  15,  weight decay:  0.2, sigma:  0.1\n",
            "testing error: -24143.50390625, Noise:  15,  weight decay:  0.5, sigma:  0.1\n",
            "testing error: -9206.1181640625, Noise:  100,  weight decay:  0, sigma:  0.1\n",
            "testing error: -57257.203125, Noise:  100,  weight decay:  0.2, sigma:  0.1\n",
            "testing error: -187507.59375, Noise:  100,  weight decay:  0.5, sigma:  0.1\n",
            "testing error: -21530.22265625, Noise:  15,  weight decay:  0, sigma:  0.5\n",
            "testing error: -23827.064453125, Noise:  15,  weight decay:  0.2, sigma:  0.5\n",
            "testing error: -27623.6328125, Noise:  15,  weight decay:  0.5, sigma:  0.5\n",
            "testing error: -114257.78125, Noise:  100,  weight decay:  0, sigma:  0.5\n",
            "testing error: -99472.671875, Noise:  100,  weight decay:  0.2, sigma:  0.5\n",
            "testing error: -150161.75, Noise:  100,  weight decay:  0.5, sigma:  0.5\n",
            "testing error: -21524.748046875, Noise:  15,  weight decay:  0, sigma:  1\n",
            "testing error: -53.83863067626953, Noise:  15,  weight decay:  0.2, sigma:  1\n",
            "testing error: -21843.26953125, Noise:  15,  weight decay:  0.5, sigma:  1\n",
            "testing error: -86995.0390625, Noise:  100,  weight decay:  0, sigma:  1\n",
            "testing error: -30963.2890625, Noise:  100,  weight decay:  0.2, sigma:  1\n",
            "testing error: -87532.2734375, Noise:  100,  weight decay:  0.5, sigma:  1\n"
          ]
        }
      ]
    },
    {
      "cell_type": "markdown",
      "source": [
        "# For sigma = 0.1 and noise = 15, weight decay of 0.2 performed the best\n",
        "# For sigma = 0.1 and noise = 100, weight decay of 0 performed the best\n",
        "#For sigma = 0.5 and noise = 15, weight decay of 0 performed the best\n",
        "#For sigma = 0.5 and noise = 100, weight decay of 0.2 performed the best\n",
        "#For sigma = 1 and noise = 15, weight decay of 0.2 performed the best\n",
        "#For sigma = 1 and noise = 100, weight decay of 0.2 performed the best"
      ],
      "metadata": {
        "id": "1jtjpJAEaV-P"
      }
    }
  ]
}